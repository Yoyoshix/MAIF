{
 "cells": [
  {
   "cell_type": "code",
   "execution_count": 108,
   "metadata": {
    "collapsed": true
   },
   "outputs": [],
   "source": [
    "\"\"\" => The rotation detection formula\n",
    "\n",
    "    The formula takes a matrix (either 1D, 2D or 3D) and returns a single value.\n",
    "        If two matrix have the same value it means that we can get B from A with rotations or symetries.\n",
    "    The formula ONLY works for two matrix with the same amount of value\n",
    "    The formula ONLY works if pieces are physically possible ([0,1,0] is not a valid matrix because 0's are not linked)\n",
    "    \n",
    "    Consider each number a different piece, have a look to these following maps : \n",
    "    A) 00000 B) 00000 C) 00000\n",
    "       00200    00000    00000\n",
    "       00100    02100    02130\n",
    "       00300    00300    00000\n",
    "       00000    00000    00000\n",
    "    The formula must differenciate A and B but not A and C because we can apply rotations from A to get C\n",
    "    \n",
    "    Critical Case to detect\n",
    "    A) 001 B) 001 C) 100\n",
    "       000    000    000\n",
    "       302    203    203\n",
    "    The formula needs to detect that A and B are different\n",
    "    \n",
    "    Because 3D is too difficult to represent and to check I'll define this :\n",
    "        If the formula does work on 1D and 2D I'll apply the same logic to 3D and pretend it to be true\n",
    "    \n",
    "    So for now let's start with 1D\n",
    "    Let's say we have A = [112233]\n",
    "    [332211] is consider to be the same (180° rotation)\n",
    "    [113322] is consider to be different (impossible to get from rotations)\n",
    "    \n",
    "    The formulas works like this :\n",
    "    A = [1,1,2,2,3,3] => p[1+1] * p[1+2] + p[2+1] * p[2+2] + p[2+2] * p[2+3] + p[3+2] * p[3+3]\n",
    "    \n",
    "    rjifhfhsdkl\n",
    "    \n",
    "    line_1 = [3,3,2,2,1,1]  = 3      * 5      + 5      * 7      + 7      * 11     + 11     * 13\n",
    "    line_2 = [1,1,3,3,2,2]  = 15              + 35              + 77              + 143\n",
    "    line_3 = [3,3,1,1,2,2]  = 270\n",
    "    \n",
    "    The current only problem appear with :\n",
    "    line_0 = [0,0,0,1,0,0,0]\n",
    "    line_1 = [0,0,1,0,0,0,0]\n",
    "    The formula is not able to differenciate the two because it does not check the position, only interactions between pieces.\n",
    "    As for now, we will not consider line_0 nor line_1 to be \"real pieces\" because 0 is an empty space.\n",
    "    If you consider 0 to be a physical piece then line_0 is impossible to create because 0's are not linked.\n",
    "\"\"\"\n",
    "p = [1,2,3,5,7,11,13,17,19,23,29,31,37,39,41,43,47,49]"
   ]
  },
  {
   "cell_type": "code",
   "execution_count": 109,
   "metadata": {},
   "outputs": [],
   "source": [
    "def get_map_cost_1D(piece_map):\n",
    "    map_cost = 1\n",
    "    for i in range(len(piece_map)):\n",
    "        #map_cost += p[piece_map[i-1]+piece_map[i]] * p[piece_map[i]+piece_map[i+1]] * p[piece_map[i]]\n",
    "        if i != len(piece_map)-1:\n",
    "            map_cost += (piece_map[i]+piece_map[i+1]+1) * (piece_map[i]+1)\n",
    "        if i != 0:\n",
    "            map_cost += (piece_map[i-1]+piece_map[i]+1) * (piece_map[i]+1)\n",
    "\n",
    "    return map_cost"
   ]
  },
  {
   "cell_type": "code",
   "execution_count": 110,
   "metadata": {},
   "outputs": [],
   "source": [
    "def get_map_cost_2D(piece_map):\n",
    "    map_cost = [1,1]\n",
    "    if len(piece_map) >= 3:\n",
    "        for i in range(1,len(piece_map)-1):\n",
    "            for j in range(len(piece_map[0])):\n",
    "                #map_cost[0] += p[piece_map[i-1][j]+piece_map[i][j]] * p[piece_map[i][j]+piece_map[i+1][j]] * p[piece_map[i][j]]\n",
    "                map_cost[0] += (piece_map[i-1][j]+piece_map[i][j]+1) * (piece_map[i][j]+piece_map[i+1][j]+1) * (piece_map[i][j]+1)\n",
    "    elif len(piece_map) == 2:\n",
    "        for j in range(len(piece_map[0])):\n",
    "            map_cost[0] += p[piece_map[0][j]]*p[piece_map[1][j]]\n",
    "    \n",
    "    if len(piece_map[0]) >= 3:\n",
    "        for i in range(len(piece_map)):\n",
    "            for j in range(1,len(piece_map[0])-1):\n",
    "                #map_cost[1] += p[piece_map[i][j-1]+piece_map[i][j]] * p[piece_map[i][j]+piece_map[i][j+1]] * p[piece_map[i][j]]\n",
    "                map_cost[1] += (piece_map[i][j-1]+piece_map[i][j]+1) * (piece_map[i][j]+piece_map[i][j+1]+1) * (piece_map[i][j]+1)\n",
    "    elif len(piece_map[0]) == 2:\n",
    "        for i in range(len(piece_map[0])):\n",
    "            map_cost[1] += p[piece_map[i][0]]*p[piece_map[i][1]]\n",
    "    \n",
    "    return map_cost[0] * map_cost[1]\n"
   ]
  },
  {
   "cell_type": "code",
   "execution_count": 112,
   "metadata": {},
   "outputs": [],
   "source": [
    "def get_map_cost_3D(piece_map):\n",
    "    map_cost = [1,1,1]\n",
    "    if len(piece_map) >= 3:\n",
    "        for i in range(1,len(piece_map)-1):\n",
    "            for j in range(len(piece_map[0])):\n",
    "                for k in range(len(piece_map[0][0])):\n",
    "                    #map_cost[0] += p[piece_map[i-1][j][k]+piece_map[i][j][k]] * p[piece_map[i][j][k]+piece_map[i+1][j][k]] * p[piece_map[i][j][k]]\n",
    "                    map_cost[0] += (piece_map[i-1][j][k]+piece_map[i][j][k]+1) * (piece_map[i][j][k]+piece_map[i+1][j][k]+1) * (piece_map[i][j][k]+1)\n",
    "    elif len(piece_map) == 2:\n",
    "        for j in range(len(piece_map[0])):\n",
    "            for k in range(len(piece_map[0][0])):\n",
    "                map_cost[0] += p[piece_map[0][j][k]]*p[piece_map[1][j][k]]\n",
    "    \n",
    "    if len(piece_map[0]) >= 3:\n",
    "        for i in range(len(piece_map)):\n",
    "            for j in range(1,len(piece_map[0])-1):\n",
    "                for k in range(len(piece_map[0][0])):\n",
    "                    #map_cost[1] += p[piece_map[i][j-1][k]+piece_map[i][j][k]] * p[piece_map[i][j][k]+piece_map[i][j+1][k]] * p[piece_map[i][j][k]]\n",
    "                    map_cost[1] += (piece_map[i][j-1][k]+piece_map[i][j][k]+1) * (piece_map[i][j][k]+piece_map[i][j+1][k]+1) * (piece_map[i][j][k]+1)\n",
    "    elif len(piece_map[0]) == 2:\n",
    "        for i in range(len(piece_map)):\n",
    "            for k in range(len(piece_map[0][0])):\n",
    "                map_cost[1] += p[piece_map[i][0][k]]*p[piece_map[i][1][k]]\n",
    "    \n",
    "    if len(piece_map[0][0]) >= 3:\n",
    "        for i in range(len(piece_map)):\n",
    "            for j in range(len(piece_map[0])):\n",
    "                for k in range(1,len(piece_map[0][0])-1):\n",
    "                    #map_cost[2] += p[piece_map[i][j][k-1]+piece_map[i][j][k]] * p[piece_map[i][j][k]+piece_map[i][j][k+1]] * p[piece_map[i][j][k]]\n",
    "                    map_cost[2] += (piece_map[i][j][k-1]+piece_map[i][j][k]+1) * (piece_map[i][j][k]+piece_map[i][j][k+1]+1) * (piece_map[i][j][k]+1)\n",
    "    elif len(piece_map[0][0]) == 2:\n",
    "        for i in range(len(piece_map)):\n",
    "            for j in range(len(piece_map[0])):\n",
    "                map_cost[2] += p[piece_map[i][j][0]]*p[piece_map[i][j][1]]\n",
    "    \n",
    "    return map_cost[0] * map_cost[1] * map_cost[2]"
   ]
  },
  {
   "cell_type": "code",
   "execution_count": 120,
   "metadata": {},
   "outputs": [
    {
     "name": "stdout",
     "output_type": "stream",
     "text": [
      "69\n",
      "69\n",
      "115\n",
      "203\n",
      "91\n",
      "129\n"
     ]
    }
   ],
   "source": [
    "line0 = [3,2,1,0]\n",
    "line1 = [0,1,2,3]\n",
    "line2 = [3,1,3,1,1,1]\n",
    "line3 = [1,3,1,3,3,3]\n",
    "line4 = [0,0,0,1,0,0,0]\n",
    "line5 = [0,0,1,0,0,0,0]\n",
    "print(get_map_cost_1D(line0))\n",
    "print(get_map_cost_1D(line1))\n",
    "print(get_map_cost_1D(line2))\n",
    "print(get_map_cost_1D(line3))\n",
    "print(get_map_cost_1D(line4))\n",
    "print(get_map_cost_1D(line5))"
   ]
  },
  {
   "cell_type": "code",
   "execution_count": 114,
   "metadata": {},
   "outputs": [
    {
     "name": "stdout",
     "output_type": "stream",
     "text": [
      "216\n",
      "216\n",
      "216\n",
      "216\n",
      "216\n",
      "252\n"
     ]
    }
   ],
   "source": [
    "\"\"\"\n",
    "map_0 = [[0,2,0],[0,1,0],[0,3,0]] #ref1\n",
    "map_1 = [[0,0,0],[2,1,0],[0,3,0]] #not related\n",
    "map_2 = [[0,0,0],[2,1,3],[0,0,0]] #180° rotate\n",
    "map_3 = [\n",
    "    [0,0,1],\n",
    "    [3,0,1],\n",
    "    [3,2,2]] #ref2\n",
    "map_4 = [\n",
    "    [0,0,1],\n",
    "    [2,0,1],\n",
    "    [2,3,3]] #not related\n",
    "map_5 = [\n",
    "    [1,0,0],\n",
    "    [1,0,3],\n",
    "    [2,2,3]] #symetric\n",
    "map_6 = [\n",
    "    [2,2,3],\n",
    "    [1,0,3],\n",
    "    [1,0,0]] #180°\n",
    "map_7 = [\n",
    "    [2,2,1],\n",
    "    [0,0,1],\n",
    "    [0,3,3]] #not related\n",
    "print(get_map_cost_2D(map_0))\n",
    "print(get_map_cost_2D(map_1))\n",
    "print(get_map_cost_2D(map_2))\n",
    "print(get_map_cost_2D(map_3))\n",
    "print(get_map_cost_2D(map_4))\n",
    "print(get_map_cost_2D(map_5))\n",
    "print(get_map_cost_2D(map_6))\n",
    "print(get_map_cost_2D(map_7))\"\"\"\n",
    "map_0 = [[0,1],[3,2]]\n",
    "map_1 = [[3,0],[2,1]]\n",
    "map_2 = [[2,3],[1,0]]\n",
    "map_3 = [[1,2],[0,3]]\n",
    "map_4 = [[1,0],[2,3]]\n",
    "map_5 = [[0,1],[2,3]]\n",
    "\n",
    "print(get_map_cost_2D(map_0))\n",
    "print(get_map_cost_2D(map_1))\n",
    "print(get_map_cost_2D(map_2))\n",
    "print(get_map_cost_2D(map_3))\n",
    "print(get_map_cost_2D(map_4))\n",
    "print(get_map_cost_2D(map_5))\n"
   ]
  },
  {
   "cell_type": "code",
   "execution_count": 121,
   "metadata": {},
   "outputs": [
    {
     "name": "stdout",
     "output_type": "stream",
     "text": [
      "648\n",
      "648\n",
      "648\n",
      "648\n",
      "1000\n"
     ]
    }
   ],
   "source": [
    "piece_map_0 = [[[1,1],[1,0]],[[0,0],[0,0]]]\n",
    "piece_map_1 = [[[1,1],[0,1]],[[0,0],[0,0]]]\n",
    "piece_map_2 = [[[1,0],[1,0]],[[0,0],[1,0]]]\n",
    "piece_map_3 = [[[1,1],[1,0]],[[1,0],[0,0]]]\n",
    "print(get_map_cost_3D(piece_map_0))\n",
    "print(get_map_cost_3D(piece_map_1))\n",
    "print(get_map_cost_3D(piece_map_2))\n",
    "print(get_map_cost_3D(piece_map_3))\n",
    "print(get_map_cost_3D(piece_map_4))"
   ]
  },
  {
   "cell_type": "code",
   "execution_count": null,
   "metadata": {
    "collapsed": true
   },
   "outputs": [],
   "source": []
  }
 ],
 "metadata": {
  "kernelspec": {
   "display_name": "ukn",
   "language": "python",
   "name": "ukn"
  },
  "language_info": {
   "codemirror_mode": {
    "name": "ipython",
    "version": 3
   },
   "file_extension": ".py",
   "mimetype": "text/x-python",
   "name": "python",
   "nbconvert_exporter": "python",
   "pygments_lexer": "ipython3",
   "version": "3.6.3"
  }
 },
 "nbformat": 4,
 "nbformat_minor": 2
}
