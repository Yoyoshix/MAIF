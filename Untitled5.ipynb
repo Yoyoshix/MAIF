{
 "cells": [
  {
   "cell_type": "code",
   "execution_count": 15,
   "metadata": {},
   "outputs": [
    {
     "name": "stdout",
     "output_type": "stream",
     "text": [
      "-1 -2 -3\n"
     ]
    }
   ],
   "source": [
    "print(~0, ~1, ~2)"
   ]
  },
  {
   "cell_type": "code",
   "execution_count": 17,
   "metadata": {},
   "outputs": [
    {
     "name": "stdout",
     "output_type": "stream",
     "text": [
      "2 2\n"
     ]
    }
   ],
   "source": [
    "print(\"2\", ~1*~0)"
   ]
  },
  {
   "cell_type": "code",
   "execution_count": 18,
   "metadata": {},
   "outputs": [
    {
     "name": "stdout",
     "output_type": "stream",
     "text": [
      "3 3\n"
     ]
    }
   ],
   "source": [
    "print(\"3\", ~(~1*~1*~0))"
   ]
  },
  {
   "cell_type": "code",
   "execution_count": 20,
   "metadata": {},
   "outputs": [
    {
     "name": "stdout",
     "output_type": "stream",
     "text": [
      "4 4\n"
     ]
    }
   ],
   "source": [
    "print(\"4\", ~1*~1)"
   ]
  },
  {
   "cell_type": "code",
   "execution_count": 66,
   "metadata": {},
   "outputs": [
    {
     "name": "stdout",
     "output_type": "stream",
     "text": [
      "5 5\n"
     ]
    }
   ],
   "source": [
    "print(\"5\", ~(((~1*~0)*(~(~1*~1*~0)))*~0)) # ~(2 * 3 * -1)"
   ]
  },
  {
   "cell_type": "code",
   "execution_count": 61,
   "metadata": {},
   "outputs": [
    {
     "name": "stdout",
     "output_type": "stream",
     "text": [
      "6 6\n"
     ]
    }
   ],
   "source": [
    "print(\"6\", (~1*~0)*~(~1*~1*~0)) # 2 * 3"
   ]
  },
  {
   "cell_type": "code",
   "execution_count": 8,
   "metadata": {},
   "outputs": [],
   "source": [
    "def is_prime(number):\n",
    "    if number == 1 or number%2 == 0:\n",
    "        return 0\n",
    "    for i in range(3, int(number**0.5)+1, 2):\n",
    "        if number%i == 0:\n",
    "            return 0\n",
    "    return 1\n",
    "\n",
    "def prime_factor(number):\n",
    "    prime_list = []\n",
    "    while number % 2 == 0:\n",
    "        prime_list.append(2)\n",
    "        number = number // 2\n",
    "    div = 3\n",
    "    while div <= number:\n",
    "        while number % div == 0:\n",
    "            prime_list.append(div)\n",
    "            number = number // div\n",
    "        div += 2\n",
    "    return prime_list\n",
    "\n",
    "def generate(number):\n",
    "    if abs(number) == 2:\n",
    "        return \"*~1\"\n",
    "    res = \"\"\n",
    "    yes = is_prime(abs(number))\n",
    "    prime_list = prime_factor(abs(number) + yes)\n",
    "    for prime in prime_list:\n",
    "        res += generate(prime)\n",
    "    return \"*\" + \"~(\"*yes + res[1:] + \"*~0\"*((prime_list.count(2)+yes)%2) + \")\"*yes\n",
    "    \n",
    "def make_tilde_expression(number):\n",
    "    if number == -1:\n",
    "        return \"~0\"\n",
    "    if number in [0,1]:\n",
    "        return str(number)\n",
    "    if number == 2:\n",
    "        return \"~1*~0\"\n",
    "    \n",
    "    res = generate(number)[1:] + \"*~0\"*(number < 0)\n",
    "    res = res.replace(\"*~0*~0\", \"\")\n",
    "    print(number)\n",
    "    print(eval(res))\n",
    "    print(res)"
   ]
  },
  {
   "cell_type": "code",
   "execution_count": null,
   "metadata": {},
   "outputs": [],
   "source": [
    "for i in range(10**23-1, 10**23):\n",
    "    make_tilde_expression(i)\n",
    "    "
   ]
  },
  {
   "cell_type": "code",
   "execution_count": 13,
   "metadata": {},
   "outputs": [
    {
     "data": {
      "text/plain": [
       "-3"
      ]
     },
     "execution_count": 13,
     "metadata": {},
     "output_type": "execute_result"
    }
   ],
   "source": [
    "eval(\"~(~1*~0)\")"
   ]
  },
  {
   "cell_type": "code",
   "execution_count": null,
   "metadata": {},
   "outputs": [],
   "source": [
    "https://discord.gg/craGAwu"
   ]
  },
  {
   "cell_type": "code",
   "execution_count": null,
   "metadata": {},
   "outputs": [],
   "source": []
  }
 ],
 "metadata": {
  "kernelspec": {
   "display_name": "Python 3",
   "language": "python",
   "name": "python3"
  },
  "language_info": {
   "codemirror_mode": {
    "name": "ipython",
    "version": 3
   },
   "file_extension": ".py",
   "mimetype": "text/x-python",
   "name": "python",
   "nbconvert_exporter": "python",
   "pygments_lexer": "ipython3",
   "version": "3.7.0"
  }
 },
 "nbformat": 4,
 "nbformat_minor": 2
}
