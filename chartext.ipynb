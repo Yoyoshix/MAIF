{
 "cells": [
  {
   "cell_type": "code",
   "execution_count": 141,
   "metadata": {},
   "outputs": [],
   "source": [
    "import random\n",
    "\n",
    "class char_dtb():\n",
    "    def __init__(self, space_next=1, space_word=3, char_use=\"\", rand_char=False):\n",
    "        self.space_next = space_next\n",
    "        self.char_use = char_use\n",
    "        self.rand_char = rand_char\n",
    "        self.char_list = \" ABCDEFGHIJKLMNOPQRSTUVWXYZ0123456789-'.\"\n",
    "        self.char_length = [space_word,5,5,5,5,5,5,5,5,5,5,5,5,5,5,5,5,5,5,5,5,5,5,5,5,5,5,5,5,5,5,5,5,5,5,5,5,5,1,2]\n",
    "        self.char_maker = [\\\n",
    "        [ 0, 0, 0, 0, 0], #space\n",
    "        [14,17,31,17,17], #A\n",
    "        [30,17,30,17,30], #B\n",
    "        [15,16,16,16,15], #C\n",
    "        [30,17,17,17,30], #D\n",
    "        [31,16,31,16,31], #E\n",
    "        [31,16,31,16,16], #F\n",
    "        [15,16,23,17,15], #G\n",
    "        [17,17,31,17,17], #H\n",
    "        [31, 4, 4, 4,31], #I\n",
    "        [31, 1, 1,17,14], #J\n",
    "        [17,18,28,18,17], #K\n",
    "        [16,16,16,16,31], #L\n",
    "        [17,27,21,17,17], #M\n",
    "        [17,25,21,19,17], #N\n",
    "        [14,17,17,17,14], #O\n",
    "        [30,17,30,16,16], #P\n",
    "        [30,17,17,18,13], #Q\n",
    "        [30,17,30,18,17], #R\n",
    "        [15,16,31, 1,30], #S\n",
    "        [31, 4, 4, 4, 4], #T\n",
    "        [17,17,17,17,14], #U\n",
    "        [17,17,17,10, 4], #V\n",
    "        [17,17,17,21,10], #W\n",
    "        [17,10, 4,10,17], #X\n",
    "        [17,10, 4, 4, 4], #Y\n",
    "        [31, 2, 4, 8,31], #Z\n",
    "        [14,18,21,25,14], #0\n",
    "        [ 4,28, 4, 4,31], #1\n",
    "        [14,17, 2, 4,31], #2\n",
    "        [30, 1,30, 1,30], #3\n",
    "        [ 6,10,18,31, 2], #4\n",
    "        [31,16,30, 1,30], #5\n",
    "        [14,16,30,17,14], #6\n",
    "        [31, 1, 2, 4, 8], #7\n",
    "        [14,17,14,17,14], #8\n",
    "        [14,17,15, 1,14], #9\n",
    "        [ 0, 0,14, 0, 0], #-\n",
    "        [16,16, 0, 0, 0], #'\n",
    "        [ 0, 0, 0,24,24]] #.\n",
    "    \n",
    "    def get_char(self):\n",
    "        if self.rand_char == True:\n",
    "            return random.choice(self.char_use)\n",
    "        if self.char_use == \"\":\n",
    "            return self.current_char\n",
    "        return self.char_use\n",
    "    \n",
    "    def binary_to_text(self, code, limit):\n",
    "        res = \"\"\n",
    "        code //= 2**(5-limit)\n",
    "        while code > 0:\n",
    "            res += self.get_char() if code % 2 else \" \"\n",
    "            code //= 2\n",
    "        res += \" \" * (limit - len(res))\n",
    "        return res[::-1] + \" \" * self.space_next\n",
    "    \n",
    "    def convert(self):\n",
    "        res = \"\"\n",
    "        for idx, i in enumerate(self.char_maker):\n",
    "            res += '\"'+self.char_list[idx]+'\":5,'\n",
    "        print(res)\n",
    "        for idx, i in enumerate(self.char_maker):\n",
    "            res = '\"'+self.char_list[idx]+'\":\"'\n",
    "            encoder = 0\n",
    "            for paw, val in enumerate(i):\n",
    "                encoder += val*(32**(4-paw))\n",
    "            res += hex(encoder)[2:] + '\",'\n",
    "            print(res)\n",
    "    \n",
    "    def write(self, text):\n",
    "        text = text.upper()\n",
    "        for i in range(5):\n",
    "            row = \"\"\n",
    "            for self.current_char in text:\n",
    "                idx = self.char_list.index(self.current_char)\n",
    "                row += self.binary_to_text(self.char_maker[idx][i], self.char_length[idx])\n",
    "            print(row)"
   ]
  },
  {
   "cell_type": "code",
   "execution_count": 142,
   "metadata": {},
   "outputs": [
    {
     "name": "stdout",
     "output_type": "stream",
     "text": [
      "\" \":5,\"A\":5,\"B\":5,\"C\":5,\"D\":5,\"E\":5,\"F\":5,\"G\":5,\"H\":5,\"I\":5,\"J\":5,\"K\":5,\"L\":5,\"M\":5,\"N\":5,\"O\":5,\"P\":5,\"Q\":5,\"R\":5,\"S\":5,\"T\":5,\"U\":5,\"V\":5,\"W\":5,\"X\":5,\"Y\":5,\"Z\":5,\"0\":5,\"1\":5,\"2\":5,\"3\":5,\"4\":5,\"5\":5,\"6\":5,\"7\":5,\"8\":5,\"9\":5,\"-\":5,\"'\":5,\".\":5,\n",
      "\" \":\"0\",\n",
      "\"A\":\"e8fe31\",\n",
      "\"B\":\"1e8fa3e\",\n",
      "\"C\":\"f8420f\",\n",
      "\"D\":\"1e8c63e\",\n",
      "\"E\":\"1f87e1f\",\n",
      "\"F\":\"1f87e10\",\n",
      "\"G\":\"f85e2f\",\n",
      "\"H\":\"118fe31\",\n",
      "\"I\":\"1f2109f\",\n",
      "\"J\":\"1f0862e\",\n",
      "\"K\":\"1197251\",\n",
      "\"L\":\"108421f\",\n",
      "\"M\":\"11dd631\",\n",
      "\"N\":\"11cd671\",\n",
      "\"O\":\"e8c62e\",\n",
      "\"P\":\"1e8fa10\",\n",
      "\"Q\":\"1e8c64d\",\n",
      "\"R\":\"1e8fa51\",\n",
      "\"S\":\"f87c3e\",\n",
      "\"T\":\"1f21084\",\n",
      "\"U\":\"118c62e\",\n",
      "\"V\":\"118c544\",\n",
      "\"W\":\"118c6aa\",\n",
      "\"X\":\"1151151\",\n",
      "\"Y\":\"1151084\",\n",
      "\"Z\":\"1f1111f\",\n",
      "\"0\":\"e9572e\",\n",
      "\"1\":\"4e109f\",\n",
      "\"2\":\"e8889f\",\n",
      "\"3\":\"1e0f83e\",\n",
      "\"4\":\"654be2\",\n",
      "\"5\":\"1f8783e\",\n",
      "\"6\":\"e87a2e\",\n",
      "\"7\":\"1f08888\",\n",
      "\"8\":\"e8ba2e\",\n",
      "\"9\":\"e8bc2e\",\n",
      "\"-\":\"3800\",\n",
      "\"'\":\"1080000\",\n",
      "\".\":\"318\",\n"
     ]
    }
   ],
   "source": [
    "char_dtb().convert()\n",
    "#char_dtb(space_word=0).write(\"Ou i.-'Non\")"
   ]
  },
  {
   "cell_type": "code",
   "execution_count": 1,
   "metadata": {},
   "outputs": [],
   "source": [
    "import random\n",
    "\n",
    "class text_to_5x5():\n",
    "    def __init__(self, char_use=\"\", space_word=3, space_next=1):\n",
    "        self.char_use = char_use\n",
    "        self.space_next = space_next\n",
    "        self.char_dtb = {\n",
    "        \"hexa\":\n",
    "        {\" \":\"0\",\"A\":\"e8fe31\",\"B\":\"1e8fa3e\",\"C\":\"f8420f\",\"D\":\"1e8c63e\",\"E\":\"1f87e1f\",\"F\":\"1f87e10\",\"G\":\"f85e2f\",\"H\":\"118fe31\",\"I\":\"1f2109f\",\"J\":\"1f0862e\",\"K\":\"1197251\",\"L\":\"108421f\",\"M\":\"11dd631\",\"N\":\"11cd671\",\"O\":\"e8c62e\",\"P\":\"1e8fa10\",\"Q\":\"1e8c64d\",\"R\":\"1e8fa51\",\"S\":\"f87c3e\",\"T\":\"1f21084\",\"U\":\"118c62e\",\"V\":\"118c544\",\"W\":\"118c6aa\",\"X\":\"1151151\",\"Y\":\"1151084\",\"Z\":\"1f1111f\",\"0\":\"e9572e\",\"1\":\"4e109f\",\"2\":\"e8889f\",\"3\":\"1e0f83e\",\"4\":\"654be2\",\"5\":\"1f8783e\",\"6\":\"e87a2e\",\"7\":\"1f08888\",\"8\":\"e8ba2e\",\"9\":\"e8bc2e\",\"-\":\"3800\",\"'\":\"1080000\",\".\":\"318\"},\n",
    "        \"length\":\n",
    "        {\" \":space_word,\"A\":5,\"B\":5,\"C\":5,\"D\":5,\"E\":5,\"F\":5,\"G\":5,\"H\":5,\"I\":5,\"J\":5,\"K\":5,\"L\":5,\"M\":5,\"N\":5,\"O\":5,\"P\":5,\"Q\":5,\"R\":5,\"S\":5,\"T\":5,\"U\":5,\"V\":5,\"W\":5,\"X\":5,\"Y\":5,\"Z\":5,\"0\":5,\"1\":5,\"2\":5,\"3\":5,\"4\":5,\"5\":5,\"6\":5,\"7\":5,\"8\":5,\"9\":5,\"-\":5,\"'\":1,\".\":2}\n",
    "        }\n",
    "    \n",
    "    def get_char(self):\n",
    "        if self.char_use == \"\":\n",
    "            return self.char_use\n",
    "        return random.choice(self.char_use)\n",
    "    \n",
    "    def hex_to_text(self, row_index, hexa, limit):\n",
    "        binary = bin(int(hexa, 16) // 32 ** (4 - row_index) % 32)[2:]\n",
    "        res = \" \" * (5 - len(binary))\n",
    "        for i in binary:\n",
    "            res += self.get_char() if i == \"1\" else \" \"\n",
    "        return res[:limit] + \" \" * self.space_next\n",
    "        \n",
    "    def write(self, text):\n",
    "        text = text.upper()\n",
    "        for row_index in range(5):\n",
    "            row_print = \"\"\n",
    "            for self.current_char in text:\n",
    "                row_print += self.hex_to_text(row_index, self.char_dtb[\"hexa\"][self.current_char], self.char_dtb[\"length\"][self.current_char])\n",
    "            print(row_print)"
   ]
  },
  {
   "cell_type": "code",
   "execution_count": 4,
   "metadata": {},
   "outputs": [
    {
     "name": "stdout",
     "output_type": "stream",
     "text": [
      " AAA  BBBB   CCCC DDDD  EEEEE FFFFF  GGGG H   H IIIII JJJJJ K   K L     M   M N   N \n",
      "A   A B   B C     D   D E     F     G     H   H   I       J K  K  L     MM MM NN  N \n",
      "AAAAA BBBB  C     D   D EEEEE FFFFF G GGG HHHHH   I       J KKK   L     M M M N N N \n",
      "A   A B   B C     D   D E     F     G   G H   H   I   J   J K  K  L     M   M N  NN \n",
      "A   A BBBB   CCCC DDDD  EEEEE F      GGGG H   H IIIII  JJJ  K   K LLLLL M   M N   N \n"
     ]
    }
   ],
   "source": [
    "text_to_5x5().write(\"abcdefghijklmn\")"
   ]
  },
  {
   "cell_type": "code",
   "execution_count": 134,
   "metadata": {},
   "outputs": [
    {
     "name": "stdout",
     "output_type": "stream",
     "text": [
      "8\n"
     ]
    }
   ],
   "source": [
    "text_to_5x5().write(\"opqrstuvwxyz\")"
   ]
  },
  {
   "cell_type": "raw",
   "metadata": {},
   "source": [
    " AAA \n",
    "A   A\n",
    "AAAAA\n",
    "A   A\n",
    "A   A"
   ]
  },
  {
   "cell_type": "raw",
   "metadata": {},
   "source": [
    "BBBB\n",
    "B   B\n",
    "BBBB\n",
    "B   B\n",
    "BBBB"
   ]
  },
  {
   "cell_type": "raw",
   "metadata": {},
   "source": [
    " CCCC\n",
    "C\n",
    "C\n",
    "C\n",
    " CCCC"
   ]
  },
  {
   "cell_type": "raw",
   "metadata": {},
   "source": [
    "DDDD\n",
    "D   D\n",
    "D   D\n",
    "D   D\n",
    "DDDD"
   ]
  },
  {
   "cell_type": "raw",
   "metadata": {},
   "source": [
    "EEEEE\n",
    "E\n",
    "EEEEE\n",
    "E\n",
    "EEEEE"
   ]
  },
  {
   "cell_type": "raw",
   "metadata": {},
   "source": [
    "FFFFF\n",
    "F\n",
    "FFFFF\n",
    "F\n",
    "F"
   ]
  },
  {
   "cell_type": "raw",
   "metadata": {},
   "source": [
    " GGGG\n",
    "G\n",
    "G  GG\n",
    "G   G\n",
    " GGGG"
   ]
  },
  {
   "cell_type": "raw",
   "metadata": {},
   "source": [
    "H   H\n",
    "H   H\n",
    "HHHHH\n",
    "H   H\n",
    "H   H"
   ]
  },
  {
   "cell_type": "raw",
   "metadata": {},
   "source": [
    "IIIII\n",
    "  I\n",
    "  I\n",
    "  I\n",
    "IIIII"
   ]
  },
  {
   "cell_type": "raw",
   "metadata": {},
   "source": [
    "JJJJJ\n",
    "    J\n",
    "    J\n",
    "J   J\n",
    " JJJ"
   ]
  },
  {
   "cell_type": "raw",
   "metadata": {},
   "source": [
    "K   K\n",
    "K  K\n",
    "KKK\n",
    "K  K\n",
    "K   K"
   ]
  },
  {
   "cell_type": "raw",
   "metadata": {},
   "source": [
    "L\n",
    "L\n",
    "L\n",
    "L\n",
    "LLLLL"
   ]
  },
  {
   "cell_type": "raw",
   "metadata": {},
   "source": [
    "M   M\n",
    "MM MM\n",
    "M M M\n",
    "M   M\n",
    "M   M"
   ]
  },
  {
   "cell_type": "raw",
   "metadata": {},
   "source": [
    "N   N\n",
    "NN  N\n",
    "N N N\n",
    "N  NN\n",
    "N   N"
   ]
  },
  {
   "cell_type": "raw",
   "metadata": {},
   "source": [
    " OOO\n",
    "O   O\n",
    "O   O\n",
    "O   O\n",
    " OOO"
   ]
  },
  {
   "cell_type": "raw",
   "metadata": {},
   "source": [
    "PPPP\n",
    "P   P\n",
    "PPPP\n",
    "P\n",
    "P"
   ]
  },
  {
   "cell_type": "raw",
   "metadata": {},
   "source": [
    " QQQ\n",
    "Q   Q\n",
    "Q   Q\n",
    "Q  Q \n",
    " QQ Q"
   ]
  },
  {
   "cell_type": "raw",
   "metadata": {},
   "source": [
    "RRRR\n",
    "R   R\n",
    "RRRR\n",
    "R  R\n",
    "R   R"
   ]
  },
  {
   "cell_type": "raw",
   "metadata": {},
   "source": [
    " SSSS\n",
    "S\n",
    "SSSSS\n",
    "    S\n",
    "SSSS"
   ]
  },
  {
   "cell_type": "raw",
   "metadata": {},
   "source": [
    "TTTTT\n",
    "  T\n",
    "  T\n",
    "  T\n",
    "  T"
   ]
  },
  {
   "cell_type": "raw",
   "metadata": {},
   "source": [
    "U   U\n",
    "U   U\n",
    "U   U\n",
    "U   U\n",
    " UUU"
   ]
  },
  {
   "cell_type": "raw",
   "metadata": {},
   "source": [
    "V   V\n",
    "V   V\n",
    "V   V\n",
    " V V\n",
    "  V"
   ]
  },
  {
   "cell_type": "raw",
   "metadata": {},
   "source": [
    "W   W\n",
    "W   W\n",
    "W   W\n",
    "W W W\n",
    " W W"
   ]
  },
  {
   "cell_type": "raw",
   "metadata": {},
   "source": [
    "X   X\n",
    " X X\n",
    "  X\n",
    " X X\n",
    "X   X"
   ]
  },
  {
   "cell_type": "raw",
   "metadata": {},
   "source": [
    "Y   Y\n",
    " Y Y\n",
    "  Y\n",
    "  Y\n",
    "  Y"
   ]
  },
  {
   "cell_type": "raw",
   "metadata": {},
   "source": [
    "ZZZZZ\n",
    "   Z\n",
    "  Z\n",
    " Z\n",
    "ZZZZZ"
   ]
  },
  {
   "cell_type": "raw",
   "metadata": {},
   "source": [
    " 000\n",
    "0  00\n",
    "0 0 0\n",
    "00  0\n",
    " 000"
   ]
  },
  {
   "cell_type": "raw",
   "metadata": {},
   "source": [
    "  1\n",
    "111\n",
    "  1\n",
    "  1\n",
    "11111"
   ]
  },
  {
   "cell_type": "raw",
   "metadata": {},
   "source": [
    " 222\n",
    "2   2\n",
    "   2\n",
    "  2\n",
    "22222"
   ]
  },
  {
   "cell_type": "raw",
   "metadata": {},
   "source": [
    "3333\n",
    "    3\n",
    "3333\n",
    "    3\n",
    "3333"
   ]
  },
  {
   "cell_type": "raw",
   "metadata": {},
   "source": [
    "  44\n",
    " 4 4\n",
    "4  4\n",
    "44444\n",
    "   4"
   ]
  },
  {
   "cell_type": "raw",
   "metadata": {},
   "source": [
    "55555\n",
    "5\n",
    "5555\n",
    "    5\n",
    "5555"
   ]
  },
  {
   "cell_type": "raw",
   "metadata": {},
   "source": [
    " 666\n",
    "6\n",
    "6666\n",
    "6   6\n",
    " 666"
   ]
  },
  {
   "cell_type": "raw",
   "metadata": {},
   "source": [
    "77777\n",
    "    7\n",
    "   7\n",
    "  7\n",
    " 7"
   ]
  },
  {
   "cell_type": "raw",
   "metadata": {},
   "source": [
    " 888\n",
    "8   8\n",
    " 888\n",
    "8   8\n",
    " 888"
   ]
  },
  {
   "cell_type": "raw",
   "metadata": {},
   "source": [
    " 999\n",
    "9   9\n",
    " 9999\n",
    "    9\n",
    " 999"
   ]
  },
  {
   "cell_type": "raw",
   "metadata": {},
   "source": [
    " \n",
    " \n",
    " ---\n",
    " \n"
   ]
  },
  {
   "cell_type": "raw",
   "metadata": {},
   "source": [
    "'\n",
    "'\n",
    " \n",
    " \n",
    " "
   ]
  },
  {
   "cell_type": "raw",
   "metadata": {},
   "source": [
    "\n",
    "\n",
    "\n",
    "..\n",
    ".."
   ]
  }
 ],
 "metadata": {
  "kernelspec": {
   "display_name": "Python 3",
   "language": "python",
   "name": "python3"
  },
  "language_info": {
   "codemirror_mode": {
    "name": "ipython",
    "version": 3
   },
   "file_extension": ".py",
   "mimetype": "text/x-python",
   "name": "python",
   "nbconvert_exporter": "python",
   "pygments_lexer": "ipython3",
   "version": "3.7.0"
  }
 },
 "nbformat": 4,
 "nbformat_minor": 2
}
