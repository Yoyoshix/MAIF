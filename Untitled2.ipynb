{
 "cells": [
  {
   "cell_type": "code",
   "execution_count": 1,
   "metadata": {},
   "outputs": [],
   "source": [
    "class new_uint():\n",
    "    def __init__(self, value=0):\n",
    "        value = int(value)\n",
    "        if value == 0:\n",
    "            self.value = [0]\n",
    "        else:\n",
    "            self.value = []\n",
    "            while value > 0:\n",
    "                self.value.append(value%10)\n",
    "                value //= 10\n",
    "    \n",
    "    def __str__(self):\n",
    "        res = \"\"\n",
    "        for i in self.value[::-1]:\n",
    "            res += str(i)\n",
    "        return res\n",
    "\n",
    "    def "
   ]
  },
  {
   "cell_type": "code",
   "execution_count": 2,
   "metadata": {},
   "outputs": [
    {
     "name": "stdout",
     "output_type": "stream",
     "text": [
      "1\n"
     ]
    }
   ],
   "source": [
    "value = 10\n",
    "value //= 10\n",
    "print(value)"
   ]
  },
  {
   "cell_type": "code",
   "execution_count": 18,
   "metadata": {},
   "outputs": [
    {
     "name": "stdout",
     "output_type": "stream",
     "text": [
      "[ 0  1  2  3  4  5  6  7  8  9 10 11 12 13 14 15 16 17 18 19 20 21 22 23\n",
      " 24 25 26 27 28 29 30 31 32 33 34 35 36 37 38 39 40 41 42 43 44 45 46 47\n",
      " 48 49 50 51]\n",
      "trefl 5\n",
      "pic 9\n"
     ]
    }
   ],
   "source": [
    "import numpy as np\n",
    "type = [\"ker\", \"karo\", \"trefl\", \"pic\"]\n",
    "card = np.arange(52)\n",
    "np.random.shuffle(card)\n",
    "for i in card[:2]:\n",
    "    print(type[i//13], i%13+1)"
   ]
  },
  {
   "cell_type": "code",
   "execution_count": 15,
   "metadata": {},
   "outputs": [
    {
     "name": "stdout",
     "output_type": "stream",
     "text": [
      "range(0, 52)\n"
     ]
    }
   ],
   "source": [
    "print(range(52))"
   ]
  },
  {
   "cell_type": "code",
   "execution_count": 20,
   "metadata": {},
   "outputs": [
    {
     "name": "stdout",
     "output_type": "stream",
     "text": [
      "[1, 2, 3, 4, 5, 6, 7, 8, 9, 10, 'v']\n"
     ]
    }
   ],
   "source": [
    "test = [i+1 for i in range(10)] + ['v']\n",
    "print(test)"
   ]
  },
  {
   "cell_type": "code",
   "execution_count": 13,
   "metadata": {},
   "outputs": [
    {
     "ename": "SyntaxError",
     "evalue": "invalid syntax (<ipython-input-13-8ee481704f7a>, line 15)",
     "output_type": "error",
     "traceback": [
      "\u001b[0;36m  File \u001b[0;32m\"<ipython-input-13-8ee481704f7a>\"\u001b[0;36m, line \u001b[0;32m15\u001b[0m\n\u001b[0;31m    test(array[[:]], length) # [:] will pass array as assignement and not reference\u001b[0m\n\u001b[0m                ^\u001b[0m\n\u001b[0;31mSyntaxError\u001b[0m\u001b[0;31m:\u001b[0m invalid syntax\n"
     ]
    }
   ],
   "source": [
    "def test(array, length):\n",
    "    print(\"func before\", hex(id(array)), len(array[0]), len(array[1]), len(array[2]))\n",
    "    for i in array:\n",
    "        if len(i) != length:\n",
    "            i += ([0] * (length - len(i)))\n",
    "    print(\"func  after\", hex(id(array)), len(array[0]), len(array[1]), len(array[2]))\n",
    "\n",
    "length = 20\n",
    "array = []\n",
    "array.append([i for i in range(5)])\n",
    "array.append([i for i in range(10)])\n",
    "array.append([i for i in range(15)])\n",
    "\n",
    "print(\"main before\", hex(id(array)), len(array[0]), len(array[1]), len(array[2]))\n",
    "test(array[:], length) # [:] will pass array as assignement and not reference\n",
    "print(\"main  after\", hex(id(array)), len(array[0]), len(array[1]), len(array[2])) # unexpected results here\n",
    "\n",
    "\"\"\"\n",
    "Hex values are different but \"test\" function has been able to change the array\n",
    "\"\"\""
   ]
  },
  {
   "cell_type": "code",
   "execution_count": 3,
   "metadata": {},
   "outputs": [
    {
     "name": "stdout",
     "output_type": "stream",
     "text": [
      "\u0007"
     ]
    }
   ],
   "source": []
  },
  {
   "cell_type": "code",
   "execution_count": null,
   "metadata": {},
   "outputs": [],
   "source": []
  }
 ],
 "metadata": {
  "kernelspec": {
   "display_name": "Python 3",
   "language": "python",
   "name": "python3"
  },
  "language_info": {
   "codemirror_mode": {
    "name": "ipython",
    "version": 3
   },
   "file_extension": ".py",
   "mimetype": "text/x-python",
   "name": "python",
   "nbconvert_exporter": "python",
   "pygments_lexer": "ipython3",
   "version": "3.7.0"
  }
 },
 "nbformat": 4,
 "nbformat_minor": 2
}
