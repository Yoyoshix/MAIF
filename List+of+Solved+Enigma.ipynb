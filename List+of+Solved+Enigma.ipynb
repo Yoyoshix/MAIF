{
 "cells": [
  {
   "cell_type": "markdown",
   "metadata": {},
   "source": [
    "### Les assiettes\n",
    "\n",
    "On dispose d'un nombre de X assiettes pouvant etre empilées sur Y tas. En utilisant toutes les assiettes et en faisant en sorte qu'aucun tas n'ait le meme nombre d'assiette : Quel nombre maximum d'assiette peut comporter la pile la plus petite ?"
   ]
  },
  {
   "cell_type": "code",
   "execution_count": 19,
   "metadata": {},
   "outputs": [
    {
     "name": "stdout",
     "output_type": "stream",
     "text": [
      "0.0\n"
     ]
    }
   ],
   "source": [
    "def less_maxima(start, pile):\n",
    "    if int(start) != start or int(pile) != pile:\n",
    "        print(\"not int error\")\n",
    "        return\n",
    "    if pile <= 0:\n",
    "        print(\"pile need to be > 0\")\n",
    "        return\n",
    "    minimum = pile * (pile - 1) / 2\n",
    "    if start < minimum:\n",
    "        print(\"start too low, no solution possible\")\n",
    "        return\n",
    "    start -= minimum\n",
    "    print(start // pile)\n",
    "    \n",
    "less_maxima(3, 3)"
   ]
  },
  {
   "cell_type": "markdown",
   "metadata": {},
   "source": [
    "### 3^3 cube\n",
    "\n",
    "Avec un ensemble de pieces 3D donnés, il faut réaliser un cube. Tester toutes les possibilitées éxistantes, c'est partit.\n",
    "(faudra aussi penser a opti mdr)"
   ]
  },
  {
   "cell_type": "code",
   "execution_count": 73,
   "metadata": {},
   "outputs": [
    {
     "name": "stdout",
     "output_type": "stream",
     "text": [
      "same\n",
      "1\n",
      "[[[1 1 1]\n",
      "  [0 1 0]\n",
      "  [0 0 0]]\n",
      "\n",
      " [[0 0 0]\n",
      "  [0 0 0]\n",
      "  [0 0 0]]\n",
      "\n",
      " [[0 0 0]\n",
      "  [0 0 0]\n",
      "  [0 0 0]]]\n"
     ]
    }
   ],
   "source": [
    "import numpy as np\n",
    "\n",
    "def row_exist(piece_row, value):\n",
    "    for i in piece_row:\n",
    "        if value in i:\n",
    "            return 1\n",
    "    return 0\n",
    "\n",
    "def piece_compare(piece_map, cmpr):\n",
    "    for i in range(3):\n",
    "        for j in range(3):\n",
    "            for k in range(3):\n",
    "                if piece_map[i][j][k] != cmpr[i][j][k]:\n",
    "                    print(\"not same\")\n",
    "                    return 0\n",
    "    print(\"same\")\n",
    "    return 1\n",
    "\n",
    "def replace_piece(piece, val_piece=1, p_map=None):\n",
    "    if (p_map == None):\n",
    "        p_map = np.zeros(np.shape(3,3,3))\n",
    "    fix_pos = []\n",
    "    min_down = 3\n",
    "    min_left = 3\n",
    "    min_front = 3\n",
    "    for i in range(3):\n",
    "        for j in range(3):\n",
    "            for k in range(3):\n",
    "                if p_map[i,j,k] == val_piece:\n",
    "                    fix_pos.append((i,j,k))\n",
    "                    if min_down > i:\n",
    "                        min_down = i\n",
    "                    if min_left > j:\n",
    "                        min_left = j\n",
    "                    if min_front > k:\n",
    "                        min_front = k\n",
    "    \n",
    "    \n",
    "    \n",
    "    for j in range(2):\n",
    "        if row_exist(piece_map[0], 1) == 0:\n",
    "            piece_map = np.delete(piece_map, 0, 0)\n",
    "            piece_map = np.append(piece_map, [[[0,0,0],[0,0,0],[0,0,0]]], axis=0)\n",
    "    for j in range(2):\n",
    "        if row_exist(piece_map[:,0], 1) == 0:\n",
    "            piece_map = np.delete(piece_map, 0, 1)\n",
    "            piece_map = np.append(piece_map, [[[0,0,0]],[[0,0,0]],[[0,0,0]]], axis=1)\n",
    "    for j in range(2):\n",
    "        if row_exist(piece_map[:,:,0], 1) == 0:\n",
    "            piece_map = np.delete(piece_map, 0, 2)\n",
    "            piece_map = np.append(piece_map, [[[0],[0],[0]],[[0],[0],[0]],[[0],[0],[0]]], axis=2)            \n",
    "    return piece_map\n",
    "\n",
    "def all_possibilities(piece_map):\n",
    "    \n",
    "    pass\n",
    "\n",
    "#6 faces have to be seen in front, turning is clockwise\n",
    "#up, down, right, left, front, back\n",
    "#each turn can only go clockwise\n",
    "#rotate code can be (u,r,d) which is equal to (b)\n",
    "def rotate(piece, rotate_code):\n",
    "    for i in rotate_code:\n",
    "        if i == \"r\":\n",
    "            piece = np.rot90(piece,  1, (0,1))\n",
    "        if i == \"l\":\n",
    "            piece = np.rot90(piece, -1, (0,1))\n",
    "        if i == \"b\":\n",
    "            piece = np.rot90(piece,  1, (0,2))\n",
    "        if i == \"f\":\n",
    "            piece = np.rot90(piece, -1, (0,2))\n",
    "        if i == \"d\":\n",
    "            piece = np.rot90(piece,  1, (1,2))\n",
    "        if i == \"u\":\n",
    "            piece = np.rot90(piece, -1, (1,2))\n",
    "\n",
    "piece_T  = np.array([[[1,1,1],[0,1,0],[0,0,0]], [[0,0,0],[0,0,0],[0,0,0]], [[0,0,0],[0,0,0],[0,0,0]]])\n",
    "piece_L  = np.array([[[1,1,1],[1,0,0],[0,0,0]], [[0,0,0],[0,0,0],[0,0,0]], [[0,0,0],[0,0,0],[0,0,0]]])\n",
    "piece_Z  = np.array([[[1,1,0],[0,1,1],[0,0,0]], [[0,0,0],[0,0,0],[0,0,0]], [[0,0,0],[0,0,0],[0,0,0]]])\n",
    "piece_tL = np.array([[[1,1,0],[0,1,0],[0,0,0]], [[0,0,0],[0,0,0],[0,0,0]], [[0,0,0],[0,0,0],[0,0,0]]])\n",
    "piece_tt = np.array([[[1,1,0],[1,1,0],[0,0,0]], [[0,0,0],[0,1,0],[0,0,0]], [[0,0,1],[0,1,1],[0,0,1]]])\n"
   ]
  },
  {
   "cell_type": "code",
   "execution_count": 114,
   "metadata": {},
   "outputs": [],
   "source": [
    "piece_test = np.array([[[1,1,0],[1,1,0],[0,0,0]], [[0,0,0],[0,1,0],[0,0,0]], [[0,0,1],[0,1,1],[0,0,1]]])"
   ]
  },
  {
   "cell_type": "code",
   "execution_count": 113,
   "metadata": {},
   "outputs": [
    {
     "name": "stdout",
     "output_type": "stream",
     "text": [
      "[[[1 1]\n",
      "  [1 1]]\n",
      "\n",
      " [[0 0]\n",
      "  [0 1]]] \n",
      "----\n",
      "[[[1 1]\n",
      "  [1 1]]\n",
      "\n",
      " [[0 0]\n",
      "  [0 1]]]\n"
     ]
    }
   ],
   "source": [
    "def check_adj(piece, value, i, j, k):\n",
    "    total = 0\n",
    "    if i > 0:\n",
    "        total += (piece[i-1][j][k] == value)\n",
    "    if i < len(piece) - 1:\n",
    "        total += (piece[i+1][j][k] == value)\n",
    "    if j > 0:\n",
    "        total += (piece[i][j-1][k] == value)\n",
    "    if j < len(piece) - 1:\n",
    "        total += (piece[i][j+1][k] == value)\n",
    "    if k > 0:\n",
    "        total += (piece[i][j][k-1] == value)\n",
    "    if k < len(piece) - 1:\n",
    "        total += (piece[i][j][k+1] == value)\n",
    "    return total\n",
    "\n",
    "def check_is_real(piece):\n",
    "    for i in range(2):\n",
    "        for j in range(2):\n",
    "            for k in range(2):\n",
    "                if piece[i][j][k] == 0 and check_adj(piece, 0, i, j, k) == 0:\n",
    "                    return 0\n",
    "    return 1\n",
    "\n",
    "def gen_piece():\n",
    "    total = 0\n",
    "    for i in range(8):\n",
    "        for j in range(i+1, 8):\n",
    "            for k in range(j+1, 8):\n",
    "                piece = np.array([[[1,1],[1,1]], [[1,1],[1,1]]])\n",
    "                piece[i//4, i//2%2, i%2] = 0\n",
    "                piece[j//4, j//2%2, j%2] = 0\n",
    "                piece[k//4, k//2%2, k%2] = 0\n",
    "                if check_is_real(piece) == 1:\n",
    "                    total += 1\n",
    "                    print(piece, \"\\n-----\")\n",
    "    print(total)\n",
    "\n",
    "#6 faces have to be seen in front, turning is clockwise\n",
    "#up, down, right, left, front, back\n",
    "#each turn can only go clockwise\n",
    "#rotate code can be (u,r,d) which is equal to (b)\n",
    "def rotate(piece, rotate_code):\n",
    "    for i in rotate_code:\n",
    "        if i == \"r\":\n",
    "            piece = np.rot90(piece,  1, (0,1))\n",
    "        if i == \"l\":\n",
    "            piece = np.rot90(piece, -1, (0,1))\n",
    "        if i == \"b\":\n",
    "            piece = np.rot90(piece,  1, (0,2))\n",
    "        if i == \"f\":\n",
    "            piece = np.rot90(piece, -1, (0,2))\n",
    "        if i == \"d\":\n",
    "            piece = np.rot90(piece,  1, (1,2))\n",
    "        if i == \"u\":\n",
    "            piece = np.rot90(piece, -1, (1,2))\n",
    "    print(piece)\n",
    "            \n",
    "piece = np.array([[[1,1],[1,1]], [[0,0],[0,1]]])\n",
    "print(piece, \"\\n----\")\n",
    "rotate(piece, (\"u\",\"d\"))"
   ]
  },
  {
   "cell_type": "code",
   "execution_count": 81,
   "metadata": {},
   "outputs": [
    {
     "ename": "TypeError",
     "evalue": "list indices must be integers or slices, not tuple",
     "output_type": "error",
     "traceback": [
      "\u001b[0;31m---------------------------------------------------------------------------\u001b[0m",
      "\u001b[0;31mTypeError\u001b[0m                                 Traceback (most recent call last)",
      "\u001b[0;32m<ipython-input-81-0a3a7fd90eca>\u001b[0m in \u001b[0;36m<module>\u001b[0;34m()\u001b[0m\n\u001b[1;32m      1\u001b[0m \u001b[0mpiece\u001b[0m \u001b[0;34m=\u001b[0m \u001b[0;34m[\u001b[0m\u001b[0;34m[\u001b[0m\u001b[0;34m[\u001b[0m\u001b[0;36m1\u001b[0m\u001b[0;34m,\u001b[0m\u001b[0;36m1\u001b[0m\u001b[0;34m]\u001b[0m\u001b[0;34m,\u001b[0m\u001b[0;34m[\u001b[0m\u001b[0;36m1\u001b[0m\u001b[0;34m,\u001b[0m\u001b[0;36m1\u001b[0m\u001b[0;34m]\u001b[0m\u001b[0;34m]\u001b[0m\u001b[0;34m,\u001b[0m \u001b[0;34m[\u001b[0m\u001b[0;34m[\u001b[0m\u001b[0;36m1\u001b[0m\u001b[0;34m,\u001b[0m\u001b[0;36m1\u001b[0m\u001b[0;34m]\u001b[0m\u001b[0;34m,\u001b[0m\u001b[0;34m[\u001b[0m\u001b[0;36m1\u001b[0m\u001b[0;34m,\u001b[0m\u001b[0;36m1\u001b[0m\u001b[0;34m]\u001b[0m\u001b[0;34m]\u001b[0m\u001b[0;34m]\u001b[0m\u001b[0;34m\u001b[0m\u001b[0m\n\u001b[0;32m----> 2\u001b[0;31m \u001b[0mprint\u001b[0m\u001b[0;34m(\u001b[0m\u001b[0mpiece\u001b[0m\u001b[0;34m[\u001b[0m\u001b[0;36m0\u001b[0m\u001b[0;34m,\u001b[0m \u001b[0;36m1\u001b[0m\u001b[0;34m,\u001b[0m \u001b[0;36m2\u001b[0m\u001b[0;34m]\u001b[0m\u001b[0;34m)\u001b[0m\u001b[0;34m\u001b[0m\u001b[0m\n\u001b[0m",
      "\u001b[0;31mTypeError\u001b[0m: list indices must be integers or slices, not tuple"
     ]
    }
   ],
   "source": [
    "piece = [[[1,1],[1,1]], [[1,1],[1,1]]]\n",
    "print(piece[0, 1, 2])"
   ]
  },
  {
   "cell_type": "code",
   "execution_count": null,
   "metadata": {
    "collapsed": true
   },
   "outputs": [],
   "source": []
  }
 ],
 "metadata": {
  "kernelspec": {
   "display_name": "Python3",
   "language": "python",
   "name": "python3"
  },
  "language_info": {
   "codemirror_mode": {
    "name": "ipython",
    "version": 3
   },
   "file_extension": ".py",
   "mimetype": "text/x-python",
   "name": "python",
   "nbconvert_exporter": "python",
   "pygments_lexer": "ipython3",
   "version": "3.6.3"
  }
 },
 "nbformat": 4,
 "nbformat_minor": 2
}
