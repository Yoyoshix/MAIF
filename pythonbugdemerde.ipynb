{
 "cells": [
  {
   "cell_type": "code",
   "execution_count": 10,
   "metadata": {},
   "outputs": [
    {
     "name": "stdout",
     "output_type": "stream",
     "text": [
      "Return :\n",
      "[[1 1 0]\n",
      " [1 1 0]\n",
      " [0 0 0]]\n",
      "Return :\n",
      "[[1 1 0]\n",
      " [1 1 0]\n",
      " [0 0 0]]\n",
      "Return :\n",
      "[[1 1 0]\n",
      " [1 1 0]\n",
      " [0 0 0]]\n",
      "Return :\n",
      "[[1 1 0]\n",
      " [1 1 0]\n",
      " [0 0 0]]\n",
      "\n",
      "In list_piece :\n",
      "[[0 1 1]\n",
      " [0 1 1]\n",
      " [0 0 0]]\n",
      "[[0 0 0]\n",
      " [0 1 1]\n",
      " [0 1 1]]\n",
      "[[0 0 0]\n",
      " [1 1 0]\n",
      " [1 1 0]]\n",
      "[[1 1 0]\n",
      " [1 1 0]\n",
      " [0 0 0]]\n"
     ]
    }
   ],
   "source": [
    "import numpy as np\n",
    "\n",
    "def replace_piece(piece):\n",
    "    for i in range(3):\n",
    "        for j in range(3):\n",
    "            if piece[i,j] == 1: #erase the old position\n",
    "                piece[i,j] = 0\n",
    "    for i in range(2):\n",
    "        for j in range(2):\n",
    "            piece[i,j] = 1 #write the good one\n",
    "    print(\"Return :\")\n",
    "    print(piece)\n",
    "    return piece\n",
    "\n",
    "def rotate(piece):\n",
    "    piece = np.rot90(piece, -1, (0,1)) #apply rotation\n",
    "    return piece\n",
    "\n",
    "def gen_piece(piece): #generate all 4 rototations and reposition it\n",
    "    list_piece = []\n",
    "    for j in range(4):\n",
    "        list_piece.append(replace_piece(piece))\n",
    "        piece = rotate(piece) #turn the piece by 90°\n",
    "    return list_piece\n",
    "\n",
    "piece = np.array([[1,1,0],[1,1,0],[0,0,0]])\n",
    "list_piece = gen_piece(piece)\n",
    "print(\"\\nIn list_piece :\")\n",
    "for i in list_piece:\n",
    "    print(i)"
   ]
  },
  {
   "cell_type": "code",
   "execution_count": null,
   "metadata": {
    "collapsed": true
   },
   "outputs": [],
   "source": []
  }
 ],
 "metadata": {
  "kernelspec": {
   "display_name": "ukn",
   "language": "python",
   "name": "ukn"
  },
  "language_info": {
   "codemirror_mode": {
    "name": "ipython",
    "version": 3
   },
   "file_extension": ".py",
   "mimetype": "text/x-python",
   "name": "python",
   "nbconvert_exporter": "python",
   "pygments_lexer": "ipython3",
   "version": "3.6.3"
  }
 },
 "nbformat": 4,
 "nbformat_minor": 2
}
