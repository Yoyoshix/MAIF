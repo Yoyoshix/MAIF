{
 "cells": [
  {
   "cell_type": "markdown",
   "metadata": {},
   "source": [
    "https://projecteuler.net/problem=151"
   ]
  },
  {
   "cell_type": "code",
   "execution_count": 1,
   "metadata": {},
   "outputs": [],
   "source": [
    "import copy\n",
    "\n",
    "class Sheet_check():\n",
    "    def __init__(self):\n",
    "        self.correct = 0\n",
    "        self.total = 0\n",
    "        self.start = 0\n",
    "\n",
    "    def make_sheet(self, sheets, idx):\n",
    "        if sheets[idx] == 1:\n",
    "            del sheets[idx]\n",
    "            return sheets\n",
    "        while sheets[idx] > 1:\n",
    "            sheets[idx] = sheets[idx] // 2\n",
    "            sheets.append(sheets[idx])\n",
    "        return sheets\n",
    "\n",
    "    def step(self, sheets):\n",
    "        if len(sheets) == 1 and sheets[0] != self.start:\n",
    "            self.total += 1\n",
    "            self.correct += (sheets[0] != 1)\n",
    "        else:\n",
    "            print(sheets, self.total)\n",
    "            #print(sheets, depth, self.total)\n",
    "            for idx in range(len(sheets)):\n",
    "                #print(idx)\n",
    "                self.step(self.make_sheet(copy.copy(sheets), idx))\n",
    "\n",
    "    def start_algo(self, sheets):\n",
    "        self.start = sheets[0]\n",
    "        self.step(sheets)\n",
    "        print(self.correct, self.total)"
   ]
  },
  {
   "cell_type": "code",
   "execution_count": 2,
   "metadata": {},
   "outputs": [
    {
     "name": "stdout",
     "output_type": "stream",
     "text": [
      "[4] 0\n",
      "[1, 2, 1] 0\n",
      "[2, 1] 0\n",
      "[1, 1, 1] 0\n",
      "[1, 1] 0\n",
      "[1, 1] 2\n",
      "[1, 1] 4\n",
      "[1, 1, 1, 1] 7\n",
      "[1, 1, 1] 7\n",
      "[1, 1] 7\n",
      "[1, 1] 9\n",
      "[1, 1] 11\n",
      "[1, 1, 1] 13\n",
      "[1, 1] 13\n",
      "[1, 1] 15\n",
      "[1, 1] 17\n",
      "[1, 1, 1] 19\n",
      "[1, 1] 19\n",
      "[1, 1] 21\n",
      "[1, 1] 23\n",
      "[1, 1, 1] 25\n",
      "[1, 1] 25\n",
      "[1, 1] 27\n",
      "[1, 1] 29\n",
      "[1, 2] 31\n",
      "[1, 1, 1] 32\n",
      "[1, 1] 32\n",
      "[1, 1] 34\n",
      "[1, 1] 36\n",
      "2 38\n"
     ]
    }
   ],
   "source": [
    "Sheet_check().start_algo([4])"
   ]
  },
  {
   "cell_type": "code",
   "execution_count": 46,
   "metadata": {},
   "outputs": [],
   "source": [
    "import copy\n",
    "\n",
    "class Sheet():\n",
    "    def __init__(self):\n",
    "        self.correct = -1\n",
    "        self.total = 0\n",
    "        self.count_1 = [0] * 16\n",
    "    \n",
    "    def fact(self, n):\n",
    "        if n <= 1:\n",
    "            return 1\n",
    "        return n * self.fact(n - 1)\n",
    "    \n",
    "    def make_sheet(self, sheets, idx):\n",
    "        #print(sheets, idx, depth)\n",
    "        if sheets[idx] == 1:\n",
    "            del sheets[idx]\n",
    "            return sheets\n",
    "        while sheets[idx] > 1:\n",
    "            sheets[idx] = sheets[idx] // 2\n",
    "            sheets.append(sheets[idx])\n",
    "        return sheets\n",
    "\n",
    "    def step(self, sheets, mult=1):\n",
    "        print(sheets)\n",
    "        if sheets.count(1) == len(sheets):\n",
    "            self.total += self.fact(sheets.count(1)) * mult\n",
    "        else:\n",
    "            self.correct += (len(sheets) == 1) * mult\n",
    "            #print(sheets, depth, self.total)\n",
    "            for i in set(sheets):\n",
    "                self.step(self.make_sheet(copy.copy(sheets), sheets.index(i)), mult * sheets.count(i))\n",
    "\n",
    "    def start_algo(self, sheets):\n",
    "        self.step(sheets)\n",
    "        print(self.correct, self.total)\n",
    "        print(self.count_1)\n",
    "        total = 0\n",
    "        for idx, i in enumerate(self.count_1):\n",
    "            total += self.fact(idx) * i\n",
    "        print(total)"
   ]
  },
  {
   "cell_type": "code",
   "execution_count": 44,
   "metadata": {},
   "outputs": [
    {
     "name": "stdout",
     "output_type": "stream",
     "text": [
      "[4]\n",
      "[1, 2, 1]\n",
      "[2, 1]\n",
      "[2]\n",
      "[1, 1]\n",
      "[1, 1, 1]\n",
      "[1, 1, 1, 1]\n",
      "2 40\n",
      "[0, 0, 0, 0, 0, 0, 0, 0, 0, 0, 0, 0, 0, 0, 0, 0]\n",
      "0\n"
     ]
    }
   ],
   "source": [
    "Sheet().start_algo([4])"
   ]
  },
  {
   "cell_type": "code",
   "execution_count": null,
   "metadata": {},
   "outputs": [],
   "source": [
    "519432**525"
   ]
  },
  {
   "cell_type": "code",
   "execution_count": 2,
   "metadata": {},
   "outputs": [],
   "source": [
    "import copy\n",
    "import numpy as np\n",
    "\n",
    "class Sheet_random():\n",
    "    def __init__(self):\n",
    "        self.start = 0\n",
    "\n",
    "    def make_sheet(self, sheets, idx):\n",
    "        #print(idx, sheets, sheets[idx])\n",
    "        if sheets[idx] == 1:\n",
    "            del sheets[idx]\n",
    "            return sheets\n",
    "        while sheets[idx] > 1:\n",
    "            sheets[idx] = sheets[idx] // 2\n",
    "            sheets.append(sheets[idx])\n",
    "        return sheets\n",
    "\n",
    "    def step(self, sheets):\n",
    "        if len(sheets) == 1 and sheets[0] != self.start:\n",
    "            return sheets[0] != 1\n",
    "        else:\n",
    "            return self.step(self.make_sheet(copy.copy(sheets), np.random.randint(0,len(sheets))))\n",
    "                \n",
    "    def start_algo(self, sheets, simulation):\n",
    "        self.start = sheets[0]\n",
    "        total = 0\n",
    "        for i in range(simulation):\n",
    "            total += self.step(sheets)\n",
    "        print(total, total/simulation)"
   ]
  },
  {
   "cell_type": "code",
   "execution_count": 5,
   "metadata": {},
   "outputs": [
    {
     "name": "stdout",
     "output_type": "stream",
     "text": [
      "19392 0.19392\n"
     ]
    }
   ],
   "source": [
    "Sheet_random().start_algo([32], 100000)"
   ]
  },
  {
   "cell_type": "code",
   "execution_count": null,
   "metadata": {},
   "outputs": [],
   "source": []
  },
  {
   "cell_type": "code",
   "execution_count": null,
   "metadata": {},
   "outputs": [],
   "source": []
  }
 ],
 "metadata": {
  "kernelspec": {
   "display_name": "Python 3",
   "language": "python",
   "name": "python3"
  },
  "language_info": {
   "codemirror_mode": {
    "name": "ipython",
    "version": 3
   },
   "file_extension": ".py",
   "mimetype": "text/x-python",
   "name": "python",
   "nbconvert_exporter": "python",
   "pygments_lexer": "ipython3",
   "version": "3.7.0"
  }
 },
 "nbformat": 4,
 "nbformat_minor": 2
}
