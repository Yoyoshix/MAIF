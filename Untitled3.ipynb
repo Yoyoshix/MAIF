{
 "cells": [
  {
   "cell_type": "code",
   "execution_count": 9,
   "metadata": {},
   "outputs": [
    {
     "name": "stdout",
     "output_type": "stream",
     "text": [
      "['ABCc', 'DE']\n"
     ]
    }
   ],
   "source": [
    "def parse_bbs(bbs, final_bbs, index=0, margin=100):\n",
    "    if len(bbs) == index + 1:\n",
    "        final_bbs.append(''.join([letter.split()[0] for letter in bbs]))\n",
    "        return final_bbs\n",
    "    if int(bbs[index + 1].split()[3]) - int(bbs[index].split()[3]) >= margin :\n",
    "        final_bbs.append(''.join([letter.split()[0] for letter in bbs[0:index + 1]]))\n",
    "        return parse_bbs(bbs[index + 1:], final_bbs, margin=margin)\n",
    "    else:\n",
    "        return parse_bbs(bbs, final_bbs, index + 1, margin)\n",
    "\n",
    "def ok_go(source, res, last, index):\n",
    "    if index >= len(source):\n",
    "        return res\n",
    "    current_letter = source[index].split()[0]\n",
    "    current_number = int(source[index].split()[3])\n",
    "    if current_number - last >= 100:\n",
    "        res.append(current_letter)\n",
    "    else:\n",
    "        res[-1] += current_letter\n",
    "    return ok_go(source, res, current_number, index + 1)\n",
    "\n",
    "titi = ['A x y 76',\n",
    "        'B x y 149',\n",
    "        'Cc x y 150',\n",
    "        'D x y 675',\n",
    "        'E x y 750',\n",
    "       ]\n",
    "\n",
    "x = ok_go(titi, [], -100, 0)\n",
    "print(x)"
   ]
  },
  {
   "cell_type": "code",
   "execution_count": 3,
   "metadata": {},
   "outputs": [
    {
     "ename": "TypeError",
     "evalue": "unsupported operand type(s) for -: 'NoneType' and 'int'",
     "output_type": "error",
     "traceback": [
      "\u001b[0;31m---------------------------------------------------------------------------\u001b[0m",
      "\u001b[0;31mTypeError\u001b[0m                                 Traceback (most recent call last)",
      "\u001b[0;32m<ipython-input-3-d1765c5467ea>\u001b[0m in \u001b[0;36m<module>\u001b[0;34m()\u001b[0m\n\u001b[0;32m----> 1\u001b[0;31m \u001b[0;32mif\u001b[0m \u001b[0mabs\u001b[0m\u001b[0;34m(\u001b[0m\u001b[0;32mNone\u001b[0m \u001b[0;34m-\u001b[0m \u001b[0;36m100\u001b[0m\u001b[0;34m)\u001b[0m \u001b[0;34m>\u001b[0m \u001b[0;36m100\u001b[0m\u001b[0;34m:\u001b[0m\u001b[0;34m\u001b[0m\u001b[0m\n\u001b[0m\u001b[1;32m      2\u001b[0m     \u001b[0mprint\u001b[0m\u001b[0;34m(\u001b[0m\u001b[0;34m'\"y\"'\u001b[0m\u001b[0;34m)\u001b[0m\u001b[0;34m\u001b[0m\u001b[0m\n",
      "\u001b[0;31mTypeError\u001b[0m: unsupported operand type(s) for -: 'NoneType' and 'int'"
     ]
    }
   ],
   "source": [
    "if abs(None - 100) > 100:\n",
    "    print('y')"
   ]
  },
  {
   "cell_type": "code",
   "execution_count": 16,
   "metadata": {},
   "outputs": [
    {
     "name": "stdout",
     "output_type": "stream",
     "text": [
      "31.622776601683796\n",
      "56.234132519034915\n",
      "74.9894209332456\n",
      "86.59643233600654\n",
      "93.0572040929699\n",
      "96.46616199111992\n"
     ]
    }
   ],
   "source": []
  },
  {
   "cell_type": "code",
   "execution_count": 1,
   "metadata": {},
   "outputs": [
    {
     "name": "stdout",
     "output_type": "stream",
     "text": [
      "ker 7\n",
      "karo 1\n"
     ]
    }
   ],
   "source": [
    "import numpy as np\n",
    "type = [\"ker\", \"karo\", \"trefl\", \"pic\"]\n",
    "card1 = np.random.randint(0,52)\n",
    "card2 = np.random.randint(0,52)\n",
    "while card1 == card2:\n",
    "    card2 = np.random.randint(0,52)\n",
    "for card in [card1, card2]:\n",
    "    print(type[card//13], card%13+1)"
   ]
  },
  {
   "cell_type": "code",
   "execution_count": 3,
   "metadata": {},
   "outputs": [
    {
     "name": "stdout",
     "output_type": "stream",
     "text": [
      "heart;7\n",
      "clubs;6\n"
     ]
    }
   ],
   "source": [
    "import numpy as np\n",
    "import random\n",
    "values = set(np.arange(13))\n",
    "deck = {'clubs' : random.sample(values,2), 'diam' : random.sample(values,2), \\\n",
    "        'heart' : random.sample(values,2), 'spades' : random.sample(values,2)}\n",
    "color1 = random.choice(list(deck.keys()))\n",
    "res1 = color1 + ';' + str(deck[color1][0])\n",
    "res2 = res1\n",
    "while res1 == res2:\n",
    "    color2 = random.choice(list(deck.keys()))\n",
    "    res2 = color2 + ';' + str(deck[color2][1])\n",
    "print(res1)\n",
    "print(res2)"
   ]
  },
  {
   "cell_type": "code",
   "execution_count": 2,
   "metadata": {},
   "outputs": [
    {
     "name": "stdin",
     "output_type": "stream",
     "text": [
      " 5\n",
      " 1\n",
      " 2\n",
      " 3\n",
      " 5\n",
      " 100\n"
     ]
    },
    {
     "name": "stdout",
     "output_type": "stream",
     "text": [
      "Query #1: 4444\n",
      "Query #2: 7777\n",
      "Query #3: 4444444\n",
      "Query #4: 4747474\n",
      "Query #5: 44444444744744444444444444444444744744444444\n"
     ]
    }
   ],
   "source": [
    "import scipy.special\n",
    "import time\n",
    "from sys import stdout\n",
    "\n",
    "class lucky_v5():\n",
    "    def __init__(self, verbose=False):\n",
    "        self.verbose = verbose\n",
    "        self.start_time_global = 0\n",
    "        self.start_time_segment = 0\n",
    "        \n",
    "        self.query = 0\n",
    "        self.cursor = 0\n",
    "        self.length = 0\n",
    "        self.limit = 0\n",
    "        self.pair = []\n",
    "        self.seven_amount = 0\n",
    "        self.reverse = False\n",
    "        self.total = 0\n",
    "        self.solution = \"\"\n",
    "        \n",
    "    def verbose_print(self, text_index): #ignore this, it's just display\n",
    "        if self.verbose == False:\n",
    "            return\n",
    "                                        #stdout.write is able to print on the same line by replacing previous print\n",
    "        if text_index == 0:\n",
    "            self.start_time_global = time.time()\n",
    "            print(\"Algorithm started\")\n",
    "        if text_index == 1:\n",
    "            stdout.write(\"\\rSolution will have a length of %d. Current length of amount of possibilities is %d\" \\\n",
    "                % (self.length, len(str(self.total))))\n",
    "        if text_index == 2:\n",
    "            print(\"\\n\")\n",
    "            if self.reverse == 1:\n",
    "                print(\"Solution will be reversed\")\n",
    "            print(\"Starting length of real query : %d.\" % (len(str(self.query))))\n",
    "            print(\"Real query :\", self.query)\n",
    "            print()\n",
    "        if text_index == 3:\n",
    "            length = len(str(self.query))\n",
    "            left_space = self.limit-self.space\n",
    "            percent = int((left_space*100)/self.limit)\n",
    "            time_elapsed = int(time.time() - self.start_time_segment)\n",
    "            stdout.write(\"\\rCurrent length of real query %d. Cursor at position %d/%d (%d%%). Amount of \\\"7\\\" put %d. Time elapsed %ds.\" \\\n",
    "                % (length, left_space, self.limit, percent, self.seven_amount, time_elapsed))\n",
    "        if text_index == 4:\n",
    "            print(\"\\n\")\n",
    "            print(\"Algorithm finished\")\n",
    "            print(\"Solution have a length of\", len(self.solution), \"and have\", self.solution.count(\"4\"), \"'4' and\", \\\n",
    "                  self.solution.count(\"7\"), \"'7'\")\n",
    "            print()\n",
    "            print(\"Total time elapsed\", time.time() - self.start_time_global)\n",
    "    \n",
    "    def is_lucky(self, number): #return 1 if number is a lucky number\n",
    "        if any(x in str(number) for x in \"01235689\"):\n",
    "            return 0\n",
    "        return 1\n",
    "    \n",
    "    def get_palindrome_pair(self, length): #return amount of 4 and 7 that one side of a SLP can have\n",
    "        pair = []\n",
    "        is_odd = length % 2 #is_odd represent the possible middle digit contained in a odd length palindrome\n",
    "        limit = length // 2 #we will simulate only one part of the palindrome because that's how the algorithm works\n",
    "        total = 0\n",
    "        for x in range(0, limit+1):\n",
    "            if self.is_lucky(x*2) == 1 or self.is_lucky(x*2+is_odd) == 1 or \\\n",
    "            self.is_lucky(length-x*2) == 1 or self.is_lucky(length-x*2-is_odd) == 1:\n",
    "                pair.append(x)\n",
    "        return pair\n",
    "    \n",
    "    def get_possibilities(self, length): #determine how much possibility for a given length\n",
    "        total = 0\n",
    "        for i in self.pair:\n",
    "            if i <= length:\n",
    "                total += scipy.special.comb(length, i, exact=True) #exact=True return a int instead of a float\n",
    "            else:\n",
    "                break\n",
    "        return total\n",
    "    \n",
    "    def get_lucky_from_index(self, index): #get lucky number from index. \"4\" is index 0, \"7\" is 1, \"44\" is 2 and so on\n",
    "        binary = \"{0:b}\".format(index+2)   #I use binary numbers because 4 and 7 are like 0 and 1\n",
    "        res = \"\"\n",
    "        for idx, i in enumerate(binary[1:]):\n",
    "            res += \"4\" if i == \"0\" else \"7\"\n",
    "        return int(res)\n",
    "    \n",
    "    def exponential_search(self, length, target):\n",
    "        idx = length-2 #start at end of array\n",
    "        step = 1 #helps moving on the array \n",
    "        current = -1 #store current value\n",
    "        best_idx = -1 #return idx\n",
    "        best_val = 0 #return value\n",
    "        over_it = False #once we've got over the target we will change the behavior of step\n",
    "        \n",
    "        while step > 0: #while we can move\n",
    "            if over_it == True:\n",
    "                step = step // 2 #need to reduce the steps to get precise\n",
    "\n",
    "            current = self.get_possibilities(idx+1) #get the comb[idx] value\n",
    "            if current <= target: # if true we update the best values because we're sure they are the current best\n",
    "                if over_it == False: #exception when breaking the point for the first time\n",
    "                    step = step // 4\n",
    "                    over_it = True #we know we crossed the line so we now need to get precise\n",
    "                    if idx == length-2: #another exception\n",
    "                        step = 1\n",
    "                best_val = current #saves the best values\n",
    "                best_idx = idx\n",
    "                idx += step\n",
    "            else:\n",
    "                idx -= step\n",
    "\n",
    "            if over_it == False:\n",
    "                step *= 2       #need to increase the step to go further and faster\n",
    "        \n",
    "        return best_idx+1, best_val\n",
    "    \n",
    "    def generate(self):\n",
    "        self.space = self.limit\n",
    "        self.solution = [\"4\"] * self.limit\n",
    "        idx = 0\n",
    "        remove = 1\n",
    "        \n",
    "        self.start_time_segment = time.time()\n",
    "        while self.query > 0 and remove > 0:\n",
    "            self.verbose_print(3)\n",
    "            \n",
    "            idx, remove = self.exponential_search(self.space, self.query)\n",
    "            self.solution[idx] = \"7\"\n",
    "            self.seven_amount += 1\n",
    "            \n",
    "            self.query -= remove\n",
    "            self.space = idx\n",
    "            for i in range(len(self.pair)): #update pair numbers\n",
    "                self.pair[i] -= 1\n",
    "            if self.pair[0] < 0: #delete because useless\n",
    "                del self.pair[0]\n",
    "        \n",
    "        if self.query == 0:\n",
    "            for i in range(self.pair[0]): #sometimes there is some remaining \"7\" to put\n",
    "                self.solution[i] = \"7\"\n",
    "                self.seven_amount += 1\n",
    "        self.space = 0\n",
    "        self.verbose_print(3)\n",
    "        \n",
    "        self.solution = \"\".join(self.solution)\n",
    "    \n",
    "    def get_solution(self, query): #let's go\n",
    "        self.verbose_print(0)\n",
    "        \n",
    "        self.query = query\n",
    "        index = 0\n",
    "        while self.query > 0: #we need to know the length of the solution\n",
    "            self.length = self.get_lucky_from_index(index) #we first get the length of out current lucky number\n",
    "            self.pair = self.get_palindrome_pair(self.length) #we determine the pair numbers of the length\n",
    "            self.limit = self.length // 2\n",
    "            self.total = self.get_possibilities(self.limit) #we calculate how much possibilities exist\n",
    "            self.query -= self.total #if query > 0 that means the solution is not in this length\n",
    "            index += 1\n",
    "            self.verbose_print(1)\n",
    "        self.query += self.total - 1       #need to go back one step to know what is the real query\n",
    "        \n",
    "        self.reverse = False    #used to helps algorithm by a little bit\n",
    "        if (self.query - self.total//2) > 0:\n",
    "            self.query = self.total - self.query - 1\n",
    "            self.reverse = True\n",
    "        \n",
    "        self.seven_amount = 0 #we assume that the solution is filled by 4 where some of 4s will be replaced by 7s\n",
    "        self.verbose_print(2)\n",
    "        \n",
    "        self.generate() #everything\n",
    "        \n",
    "        if self.length%2 == 0: #we create the whole number from one side of it\n",
    "            self.solution = self.solution[::-1] + self.solution\n",
    "        else:                                        #and here we determine what is the value of the middle digit\n",
    "            if self.is_lucky(self.seven_amount*2+1) == 1 or self.is_lucky((self.limit-self.seven_amount)*2) == 1:\n",
    "                self.solution = self.solution[::-1] + \"7\" + self.solution\n",
    "            else:\n",
    "                self.solution = self.solution[::-1] + \"4\" + self.solution\n",
    "        \n",
    "        if self.reverse == True: #reverse the solution if needed\n",
    "            self.solution = self.solution.replace(\"4\",\"0\")\n",
    "            self.solution = self.solution.replace(\"7\",\"4\")\n",
    "            self.solution = self.solution.replace(\"0\",\"7\")\n",
    "        \n",
    "        self.verbose_print(4)\n",
    "        return self.solution\n",
    "        \n",
    "algo = lucky_v5()\n",
    "start_input = int(input())\n",
    "query = []\n",
    "for i in range(start_input):\n",
    "    query.append(int(input()))\n",
    "for idx, i in enumerate(query):\n",
    "\tprint(\"Query #\"+str(idx+1)+\":\", algo.get_solution(i))\n",
    "\n",
    "#for fun you can set lucky_v5 with True like this : lucky_v5(True) to enable the verbose feature\n",
    "#To better understand the algorithm if you're curious you can get my notebook here :\n",
    "# https://github.com/Yoyoshix/Super-Lucky-Palindrome/blob/master/super_lucky_palindrome/SLP_notebook.ipynb\n",
    "# Thanks :D"
   ]
  },
  {
   "cell_type": "code",
   "execution_count": 14,
   "metadata": {},
   "outputs": [
    {
     "name": "stdin",
     "output_type": "stream",
     "text": [
      " 5\n",
      " 1\n",
      " 2\n",
      " 3\n",
      " 5\n",
      " 100\n"
     ]
    },
    {
     "name": "stdout",
     "output_type": "stream",
     "text": [
      "Query #1: 4444\n",
      "Query #2: 7777\n",
      "Query #3: 4444444\n",
      "Query #4: 4747474\n",
      "Query #5: 44444444744744444444444444444444744744444444\n"
     ]
    }
   ],
   "source": []
  },
  {
   "cell_type": "code",
   "execution_count": null,
   "metadata": {},
   "outputs": [],
   "source": []
  }
 ],
 "metadata": {
  "kernelspec": {
   "display_name": "Python 3",
   "language": "python",
   "name": "python3"
  },
  "language_info": {
   "codemirror_mode": {
    "name": "ipython",
    "version": 3
   },
   "file_extension": ".py",
   "mimetype": "text/x-python",
   "name": "python",
   "nbconvert_exporter": "python",
   "pygments_lexer": "ipython3",
   "version": "3.7.0"
  }
 },
 "nbformat": 4,
 "nbformat_minor": 2
}
