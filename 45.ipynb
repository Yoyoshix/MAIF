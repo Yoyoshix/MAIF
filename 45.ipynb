{
 "cells": [
  {
   "cell_type": "markdown",
   "metadata": {},
   "source": [
    "https://projecteuler.net/problem=45"
   ]
  },
  {
   "cell_type": "code",
   "execution_count": null,
   "metadata": {},
   "outputs": [],
   "source": [
    "def t(n):\n",
    "    return n*(n+1)//2\n",
    "def p(n):\n",
    "    return n*(3*n+1)//2\n",
    "def h(n):\n",
    "    return n*(2*n-1)\n",
    "\n",
    "while 1:\n",
    "    iT,iP,iN = 0,0,0\n",
    "    if t(iT) "
   ]
  }
 ],
 "metadata": {
  "kernelspec": {
   "display_name": "Python 3",
   "language": "python",
   "name": "python3"
  },
  "language_info": {
   "codemirror_mode": {
    "name": "ipython",
    "version": 3
   },
   "file_extension": ".py",
   "mimetype": "text/x-python",
   "name": "python",
   "nbconvert_exporter": "python",
   "pygments_lexer": "ipython3",
   "version": "3.7.0"
  }
 },
 "nbformat": 4,
 "nbformat_minor": 2
}
