{
 "cells": [
  {
   "cell_type": "code",
   "execution_count": 21,
   "metadata": {},
   "outputs": [],
   "source": [
    "import random\n",
    "\n",
    "def martingale(start_bet, mult=3, stop=None, decrease=1, reward=2):\n",
    "    count = 1\n",
    "    balance = -start_bet\n",
    "    highest_paid = start_bet\n",
    "    money_bet = start_bet\n",
    "    while random.random() < 0.5:\n",
    "        if stop != None and money_bet >= stop:\n",
    "            return balance, count, highest_paid\n",
    "        money_bet = int(money_bet*mult)\n",
    "        mult = (mult-2) * decrease + 2\n",
    "        balance -= money_bet\n",
    "        highest_paid = money_bet\n",
    "        count += 1\n",
    "        \n",
    "    balance += money_bet * reward\n",
    "    return balance, count, highest_paid\n",
    "    \n",
    "def martingale_limit(limit_by_amount, limit_by_chance=1000000, start_bet=1, mult=2, decrease=1, reward=2):\n",
    "    score = 0\n",
    "    chance = 2\n",
    "    money_bet = start_bet\n",
    "    balance = -start_bet\n",
    "    count = 1\n",
    "    while money_bet <= limit_by_amount and chance//2 <= limit_by_chance:\n",
    "        gain = (balance + money_bet * reward)\n",
    "        score += gain * (1/chance) / count\n",
    "        #print(gain)\n",
    "        money_bet = max(int(money_bet * mult), money_bet + 1)\n",
    "        mult = (mult-2) * decrease + 2\n",
    "        balance -= money_bet\n",
    "        chance *= 2\n",
    "        count += 1\n",
    "    \n",
    "    return score, chance//2"
   ]
  },
  {
   "cell_type": "code",
   "execution_count": 24,
   "metadata": {},
   "outputs": [],
   "source": [
    "def generate(fiability, bank, target=\"espc\"):\n",
    "    best = {\"score\":0, \"fiability\":0, \"start_bet\":1, \"mult\":2, \"decrease\":1}\n",
    "    for start_bet in range(1,bank+1,2):\n",
    "        for mult in range(2, 11):\n",
    "            for decrease in [1,0.75,0.5]:\n",
    "                score, chance = martingale_limit(bank, fiability, start_bet, mult, decrease)\n",
    "                #print(start_bet, mult, decrease, \"//\", esp_count, chance)\n",
    "                #input()\n",
    "                #if chance > fiability and chance > best[\"fiability\"]:\n",
    "                #    best = {\"score\":esp_count, \"fiability\":chance, \"start_bet\":start_bet, \"mult\":mult, \"decrease\":decrease}\n",
    "                if chance >= fiability and score > best[\"score\"]:\n",
    "                    \\\n",
    "    best = {\"score\":score, \"fiability\":chance, \"start_bet\":start_bet, \"mult\":mult, \"decrease\":decrease}\n",
    "            \n",
    "    print(best)"
   ]
  },
  {
   "cell_type": "code",
   "execution_count": 25,
   "metadata": {},
   "outputs": [
    {
     "name": "stdout",
     "output_type": "stream",
     "text": [
      "{'score': 8.317720081025744, 'fiability': 16384, 'start_bet': 12, 'mult': 2, 'decrease': 1}\n"
     ]
    }
   ],
   "source": [
    "generate(fiability=10000, bank=100000)"
   ]
  },
  {
   "cell_type": "code",
   "execution_count": null,
   "metadata": {},
   "outputs": [],
   "source": [
    "money = 0\n",
    "total_count = 0\n",
    "balance_res = [0]\n",
    "occurences = [0]\n",
    "max_count = 0\n",
    "highest_pay = 0\n",
    "\n",
    "bet = 5\n",
    "mult = 2\n",
    "stop = 10000000\n",
    "decrease = 1\n",
    "run = 1000000\n",
    "for i in range(run):\n",
    "    balance, count, high_pay = martingale(bet, mult, stop, decrease)\n",
    "    if count > max_count:\n",
    "        for i in range(count-max_count):\n",
    "            occurences.append(0)\n",
    "            balance_res.append(0)\n",
    "        max_count = count\n",
    "    if balance < 0:\n",
    "        balance_res[-1] = balance\n",
    "        occurences[-1] += 1\n",
    "    else:\n",
    "        balance_res[count-1] = balance\n",
    "        occurences[count-1] += 1\n",
    "    \n",
    "    money += balance\n",
    "    total_count += count\n",
    "    if high_pay > highest_pay:\n",
    "        highest_pay = high_pay\n",
    "\n",
    "avggain = money/total_count\n",
    "print(run, \"runs with bet start at\", bet, \"and mult\", mult, \"with decrease at\", decrease)\n",
    "print(\"End money\", money, \"avg gain per count\", avggain)\n",
    "print(\"Highest paid :\", highest_pay, \"by count :\", highest_pay/total_count)\n",
    "print(\"    balance | occurence\")\n",
    "for balance, occ in zip(balance_res, occurences):\n",
    "    print(\" %10d | %d (%f%%)\" % (\n",
    "        balance, occ, (100*occ)/run))"
   ]
  }
 ],
 "metadata": {
  "kernelspec": {
   "display_name": "Python 3",
   "language": "python",
   "name": "python3"
  },
  "language_info": {
   "codemirror_mode": {
    "name": "ipython",
    "version": 3
   },
   "file_extension": ".py",
   "mimetype": "text/x-python",
   "name": "python",
   "nbconvert_exporter": "python",
   "pygments_lexer": "ipython3",
   "version": "3.7.0"
  }
 },
 "nbformat": 4,
 "nbformat_minor": 2
}
