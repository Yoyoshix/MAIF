{
 "cells": [
  {
   "cell_type": "markdown",
   "metadata": {},
   "source": [
    "https://projecteuler.net/problem=169"
   ]
  },
  {
   "cell_type": "code",
   "execution_count": null,
   "metadata": {},
   "outputs": [],
   "source": [
    "class p169_v1():\n",
    "    def __init__(self):\n",
    "        self.p2 = []\n",
    "        \n",
    "    def generate_p2(self, n, amount=2):\n",
    "        self.p2 = []\n",
    "        power = 1\n",
    "        while power < n:\n",
    "            for i in range(amount):\n",
    "                self.p2.append(power)\n",
    "            power **= 2\n",
    "    \n",
    "    def generate(self, n, avail):\n",
    "        \n",
    "    \n",
    "    def get_solution(self, n):\n",
    "        self.generate_p2(n)\n",
    "        "
   ]
  }
 ],
 "metadata": {
  "kernelspec": {
   "display_name": "Python 3",
   "language": "python",
   "name": "python3"
  },
  "language_info": {
   "codemirror_mode": {
    "name": "ipython",
    "version": 3
   },
   "file_extension": ".py",
   "mimetype": "text/x-python",
   "name": "python",
   "nbconvert_exporter": "python",
   "pygments_lexer": "ipython3",
   "version": "3.7.0"
  }
 },
 "nbformat": 4,
 "nbformat_minor": 2
}
