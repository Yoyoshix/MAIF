{
 "cells": [
  {
   "cell_type": "markdown",
   "metadata": {},
   "source": [
    "## Les assiettes"
   ]
  },
  {
   "cell_type": "markdown",
   "metadata": {},
   "source": [
    "On dispose d'un nombre d'assiettes pouvant etre empilées sur plusieurs tas. En utilisant toutes les assiettes et en faisant en sorte qu'aucun tas n'ait le meme nombre d'assiette : Quel nombre maximum d'assiette peut comporter la pile la plus petite ?\n",
    "\n",
    "Créer une fonction qui reçoit en entrée le nombre d'assiettes (int >= 0) et le nombre de piles (int > 0) et renvoie la bonne réponse. S'il n'y a pas assez d'assiettes et donc que deux tas ont le meme nombre d'assiette la fonction doit renvoyer -1.\n",
    "\n",
    "Note : Un tas peut comporter 0 assiette et il y a toujours au moins 1 tas.\n",
    "\n",
    "Afin de vérifier vos calculs voici une liste d'entrées avec leur résultat :\n",
    "- 6,3 > 1\n",
    "- 10,2 > 4\n",
    "- 50,1 > 50\n",
    "- 100,7 > 11\n",
    "- 1,2 > 0\n",
    "- 0,1 > 0\n",
    "- 0,2 > -1\n",
    "- 987654321,10 > 98765427"
   ]
  },
  {
   "cell_type": "code",
   "execution_count": null,
   "metadata": {},
   "outputs": [],
   "source": []
  },
  {
   "cell_type": "markdown",
   "metadata": {},
   "source": [
    "## Nombres total d'intéractions pour des objects multidimensionnel"
   ]
  },
  {
   "cell_type": "markdown",
   "metadata": {},
   "source": [
    "Créer une fonction qui recoit le shape d'une matrice et qui renvoit le nombre total d'interactions uniques que comporte une matrice quelque soit les dimensions.\n",
    "\n",
    "On appelle interaction une paire de deux coordonnées proche. Proche dans le sens ou la distance entre deux points vaut 1.\n",
    "Pour rappel la distance entre deux points dans l'espace est :\n",
    "- Pour une matrice en 2D : sqrt((x1-x2)²+(y1-y2)²)\n",
    "- Pour une matrice en 3D : sqrt((x1-x2)²+(y1-y2)²+(z1-z2)²)\n",
    "\n",
    "Etc... vous comprenez le principe\n",
    "\n",
    "Vous pouvez vous imaginer aussi chaque point d'une matrice comme des cubes. L'ensemble des interactions sont donc tous les endroits ou les faces de deux cubes se touchent.\n",
    "\n",
    "Afin de vérifier vos calculs voici une listes d'entrées et de sorties :\n",
    "- Deux points cote a cote : (2) > 1\n",
    "-           Un seul point : (1,1,1,1,1,1) > 0\n",
    "-          Le jeu d'échec : (8,8) > 112\n",
    "-         Un rubik's cube : (3,3,3) > 54\n",
    "-     Un objet improbable : (1,2,3,4,5,6,7,8,9,10) > 25659360\n",
    "\n",
    "Note : Attention, ici il s'agit de bien compter le nombre d'interactions uniques. Comme le premier exemple le montre, il n'y a qu'une interaction entre deux points cote a cote.\n",
    "\n",
    "Puisque l'entrée est le shape d'une matrice on suppose que celle-ci est correcte. Il n'y a donc pas de solution impossible."
   ]
  },
  {
   "cell_type": "code",
   "execution_count": null,
   "metadata": {},
   "outputs": [],
   "source": []
  },
  {
   "cell_type": "code",
   "execution_count": 62,
   "metadata": {
    "collapsed": true
   },
   "outputs": [
    {
     "name": "stdout",
     "output_type": "stream",
     "text": [
      "0 0 6 8\n",
      "[[ 2.  1.  0.  0.  0.  1.  2.  3.  0.  0.]\n",
      " [ 2.  1.  0. -1.  0.  1.  2.  3.  0.  0.]\n",
      " [ 2.  1.  0.  0.  0.  1.  2.  3.  0.  0.]\n",
      " [ 3.  2.  1.  1.  1.  2.  3.  3.  0.  0.]\n",
      " [ 3.  3.  2.  2.  2.  3.  3.  0.  0.  0.]\n",
      " [ 0.  3.  3.  3.  3.  3.  0.  0.  0.  0.]\n",
      " [ 0.  0.  0.  0.  0.  0.  0.  0.  0.  0.]\n",
      " [ 0.  0.  0.  0.  0.  0.  0.  0.  0.  0.]\n",
      " [ 0.  0.  0.  0.  0.  0.  0.  0.  0.  0.]\n",
      " [ 0.  0.  0.  0.  0.  0.  0.  0.  0.  0.]]\n"
     ]
    }
   ],
   "source": []
  },
  {
   "cell_type": "code",
   "execution_count": null,
   "metadata": {
    "collapsed": true
   },
   "outputs": [],
   "source": []
  }
 ],
 "metadata": {
  "kernelspec": {
   "display_name": "Python 3",
   "language": "python",
   "name": "python3"
  },
  "language_info": {
   "codemirror_mode": {
    "name": "ipython",
    "version": 3
   },
   "file_extension": ".py",
   "mimetype": "text/x-python",
   "name": "python",
   "nbconvert_exporter": "python",
   "pygments_lexer": "ipython3",
   "version": "3.7.0"
  }
 },
 "nbformat": 4,
 "nbformat_minor": 2
}
