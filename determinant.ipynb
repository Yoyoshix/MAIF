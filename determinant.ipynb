{
 "cells": [
  {
   "cell_type": "code",
   "execution_count": 19,
   "metadata": {},
   "outputs": [],
   "source": [
    "import numpy as np\n",
    "\n",
    "def make_matrix(M, i, j, length):\n",
    "    newM = np.zeros([length - 1]*2)\n",
    "    for x in range(length):\n",
    "        if x != i:\n",
    "            for y in range(length):\n",
    "                if y != j:\n",
    "                    newM[x - (x > i), y - (y > j)] = M[x, y]\n",
    "    return newM\n",
    "\n",
    "def get_determinant(M, det=0):\n",
    "    if len(M) == 2:\n",
    "        return M[0,0]*M[1,1] - M[1,0]*M[0,1]\n",
    "    length = len(M)\n",
    "    for i in range(length):\n",
    "        det += M[0,i] * get_determinant(make_matrix(M, 0, i, length), det) * (-(i%2)*2+1)\n",
    "    return det"
   ]
  },
  {
   "cell_type": "code",
   "execution_count": 25,
   "metadata": {},
   "outputs": [
    {
     "data": {
      "text/plain": [
       "3.0"
      ]
     },
     "execution_count": 25,
     "metadata": {},
     "output_type": "execute_result"
    }
   ],
   "source": [
    "M = np.array([[1, -5, 8], [1, -2, 1], [2, -1, -4]])\n",
    "get_determinant(M)"
   ]
  },
  {
   "cell_type": "code",
   "execution_count": null,
   "metadata": {},
   "outputs": [],
   "source": []
  }
 ],
 "metadata": {
  "kernelspec": {
   "display_name": "Python 3",
   "language": "python",
   "name": "python3"
  },
  "language_info": {
   "codemirror_mode": {
    "name": "ipython",
    "version": 3
   },
   "file_extension": ".py",
   "mimetype": "text/x-python",
   "name": "python",
   "nbconvert_exporter": "python",
   "pygments_lexer": "ipython3",
   "version": "3.7.0"
  }
 },
 "nbformat": 4,
 "nbformat_minor": 2
}
