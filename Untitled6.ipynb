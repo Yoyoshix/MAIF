{
 "cells": [
  {
   "cell_type": "code",
   "execution_count": 2,
   "metadata": {},
   "outputs": [
    {
     "name": "stdout",
     "output_type": "stream",
     "text": [
      "1 7.414817810058593e-07 3.9577484130859373e-07 3.337860107421875e-07\n",
      "2 1.614093780517578e-06 7.843971252441406e-07 7.224082946777343e-07\n",
      "4 1.2183189392089845e-06 6.628036499023437e-07 5.769729614257812e-07\n",
      "8 2.474784851074219e-06 1.2111663818359375e-06 1.175403594970703e-06\n",
      "16 4.117488861083984e-06 1.959800720214844e-06 1.8668174743652344e-06\n",
      "32 6.6924095153808594e-06 3.235340118408203e-06 3.1518936157226564e-06\n",
      "64 1.2488365173339844e-05 6.358623504638672e-06 6.098747253417968e-06\n",
      "128 2.943992614746094e-05 1.3744831085205078e-05 1.3296604156494141e-05\n",
      "256 4.9712657928466795e-05 2.935171127319336e-05 2.5823116302490235e-05\n",
      "512 0.00010468482971191406 5.562782287597656e-05 5.71441650390625e-05\n",
      "1024 0.00021729469299316406 0.00011981010437011718 0.000127105712890625\n",
      "2048 0.0005004739761352539 0.0002974057197570801 0.0002951955795288086\n",
      "4096 0.0011440515518188477 0.000745389461517334 0.0007322955131530761\n",
      "8192 0.002972092628479004 0.0021826839447021485 0.0022005105018615724\n",
      "16384 0.008412809371948242 0.0067446684837341305 0.0066295361518859865\n",
      "32768 0.02491701364517212 0.021554601192474366 0.021606838703155516\n"
     ]
    }
   ],
   "source": [
    "import time\n",
    "from functools import (reduce)\n",
    "\n",
    "def nthFib(n):\n",
    "    def go(ab, _):\n",
    "        a, b = ab\n",
    "        return (b, a + b)\n",
    "    return reduce(go, range(1, n), (0, 1))[1]\n",
    "\n",
    "def fibN(n):\n",
    "    a,b=0,1\n",
    "    while n:a,b,n=b,a+b,n-1;\n",
    "    return a\n",
    "\n",
    "def fibFastRec(n):\n",
    "    def fib(prvprv, prv, c):\n",
    "        if c < 1: \n",
    "            return prvprv\n",
    "        else: \n",
    "            return fib(prv, prvprv + prv, c - 1) \n",
    "    return fib(0, 1, n)\n",
    "\n",
    "try_amount = 100\n",
    "for n in range(16):\n",
    "    n = 2**n\n",
    "    sumtime_A = 0\n",
    "    sumtime_B = 0\n",
    "    sumtime_C = 0\n",
    "    for i in range(try_amount):\n",
    "        time_A = time.time()\n",
    "        nthFib(n)\n",
    "        sumtime_A += time.time() - time_A\n",
    "        \n",
    "        time_B = time.time()\n",
    "        fibN(n)\n",
    "        sumtime_B += time.time() - time_B\n",
    "        \n",
    "        time_C = time.time()\n",
    "        fibN(n)\n",
    "        sumtime_C += time.time() - time_C\n",
    "    \n",
    "    moy_A = sumtime_A/try_amount\n",
    "    moy_B = sumtime_B/try_amount\n",
    "    moy_C = sumtime_C/try_amount\n",
    "    print(n, moy_A, moy_B, moy_C)"
   ]
  },
  {
   "cell_type": "code",
   "execution_count": null,
   "metadata": {},
   "outputs": [],
   "source": []
  }
 ],
 "metadata": {
  "kernelspec": {
   "display_name": "Python 3",
   "language": "python",
   "name": "python3"
  },
  "language_info": {
   "codemirror_mode": {
    "name": "ipython",
    "version": 3
   },
   "file_extension": ".py",
   "mimetype": "text/x-python",
   "name": "python",
   "nbconvert_exporter": "python",
   "pygments_lexer": "ipython3",
   "version": "3.7.0"
  }
 },
 "nbformat": 4,
 "nbformat_minor": 2
}
