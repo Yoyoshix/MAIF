{
 "cells": [
  {
   "cell_type": "markdown",
   "metadata": {},
   "source": [
    "## Les assiettes\n",
    "\n",
    "On dispose d'un nombre d'assiettes pouvant etre empilées sur plusieurs tas. En utilisant toutes les assiettes et en faisant en sorte qu'aucun tas n'ait le meme nombre d'assiette : Quel nombre maximum d'assiette peut comporter la pile la plus petite ?\n",
    "\n",
    "Créer une fonction qui reçoit en entrée le nombre d'assiettes (int >= 0) et le nombre de piles (int > 0) et renvoie la bonne réponse. S'il n'y a pas assez d'assiettes et donc que deux tas ont le meme nombre d'assiette la fonction doit renvoyer -1.\n",
    "\n",
    "Note : Un tas peut comporter 0 assiette et il y a toujours au moins 1 tas.\n",
    "\n",
    "Afin de vérifier vos calculs voici une liste d'entrées avec leur résultat :\n",
    "- 6,3 > 1\n",
    "- 10,2 > 4\n",
    "- 50,1 > 50\n",
    "- 100,7 > 11\n",
    "- 1,2 > 0\n",
    "- 0,1 > 0\n",
    "- 0,2 > -1\n",
    "- 987654321,10 > 98765427"
   ]
  },
  {
   "cell_type": "code",
   "execution_count": 3,
   "metadata": {},
   "outputs": [
    {
     "name": "stdout",
     "output_type": "stream",
     "text": [
      "126245092242\n"
     ]
    }
   ],
   "source": [
    "def assiettes(start, pile):\n",
    "    minimum = pile * (pile - 1) // 2\n",
    "    if start < minimum:\n",
    "        return -1\n",
    "    start -= minimum\n",
    "    return start // pile\n",
    "    \n",
    "print(assiettes(11235813213455,89))"
   ]
  },
  {
   "cell_type": "code",
   "execution_count": 33,
   "metadata": {},
   "outputs": [
    {
     "name": "stdout",
     "output_type": "stream",
     "text": [
      "11\n"
     ]
    }
   ],
   "source": [
    "def assiettes_compact(start, pile):\n",
    "    if start < pile * (pile - 1) // 2:\n",
    "        return -1\n",
    "    return (start - (pile * (pile - 1) // 2)) // pile\n",
    "\n",
    "print(assiettes_compact(100,7))"
   ]
  },
  {
   "cell_type": "code",
   "execution_count": null,
   "metadata": {},
   "outputs": [],
   "source": []
  },
  {
   "cell_type": "markdown",
   "metadata": {},
   "source": [
    "## Les intéractions uniques\n",
    "\n",
    "Créer une fonction qui recoit le shape d'une matrice (étant obtenu avec un numpy.shape) et qui renvoit le nombre total d'interactions de celle-ci.\n",
    "\n",
    "On appelle interaction une __paire__ de deux coordonnées proche. Proche dans le sens ou la distance entre deux points vaut 1.\n",
    "Pour rappel la distance entre deux points dans l'espace est :\n",
    "- Pour une matrice en 2D : sqrt((x1-x2)²+(y1-y2)²)\n",
    "- Pour une matrice en 3D : sqrt((x1-x2)²+(y1-y2)²+(z1-z2)²)\n",
    "\n",
    "Etc... vous comprenez le principe\n",
    "\n",
    "Afin de vérifier vos calculs voici une listes d'entrées et de sorties :\n",
    "- Deux points seuls : (2) > 1\n",
    "- Les morceaux de Toblerone d'une barre de 100g : (12) > 11\n",
    "- Le jeu d'échec : (8,8) > 112\n",
    "- Un rubik's cube : (3,3,3) > 54\n",
    "- Dimensions officiel du plateau de jeu de Tetris : (10,40) > 750\n",
    "- Un seul point quelque soit les dimensions : (1,1,1,1,1,1) > 0\n",
    "- Un objet improbable : (1,2,3,4,5,6,7,8,9,10) > 25659360\n",
    "\n",
    "Puisque l'entrée est le shape d'une matrice on suppose que celle-ci est correcte. On considère aussi qu'un objet ne contient pas la valeur 0 car ce genre d'objet est impossible a représenter."
   ]
  },
  {
   "cell_type": "code",
   "execution_count": 6,
   "metadata": {},
   "outputs": [
    {
     "name": "stdout",
     "output_type": "stream",
     "text": [
      "54776053859\n"
     ]
    }
   ],
   "source": [
    "import numpy as np\n",
    "\n",
    "def itrc(dim):\n",
    "    if type(dim) == type(0):\n",
    "        return dim - 1\n",
    "    total = np.prod(dim)\n",
    "    base = len(dim) * total\n",
    "    for i in dim:\n",
    "        base -= total // i\n",
    "    return base\n",
    "\n",
    "print(itrc((2,3,5,7,11,13,17,19,23,29)))"
   ]
  },
  {
   "cell_type": "code",
   "execution_count": null,
   "metadata": {},
   "outputs": [],
   "source": []
  },
  {
   "cell_type": "markdown",
   "metadata": {},
   "source": [
    "## Les Tournois\n",
    "\n",
    "L'objectif de ce test sera de déterminer le nombre **minimum** de matchs qui devront etre disputés pour déterminer un (ou des) gagnant dans un tournoi.\n",
    "\n",
    "Créer une fonction qui reçoit en entrée le nombre de participants du tournoi avec le nombre de gagants a chaque matchs disputé ainsi que le nombre de perdant. Cette fonction devra retourner le nombre de matchs qui ont été disputé.\n",
    "\n",
    "On supposera que s'il n'y a pas assez de joueurs pour disputer un match celui-ci sera quand meme joué et le nombre de gagnant a l'issu de ce match ne devra pas changer.\n",
    "\n",
    "Aussi, le nombre de joueurs sera toujours supérieur au nombre de gagnant par match + le nombre de perdant pour qu'au moins un match puisse etre joué en suivant les regles.\n"
   ]
  },
  {
   "cell_type": "code",
   "execution_count": 76,
   "metadata": {},
   "outputs": [
    {
     "data": {
      "text/plain": [
       "1"
      ]
     },
     "execution_count": 76,
     "metadata": {},
     "output_type": "execute_result"
    }
   ],
   "source": [
    "import numpy as np\n",
    "\n",
    "def tournoi(joueurs, win, lose):\n",
    "    return (joueurs-win)//lose + 1 - ((joueurs-win)%lose == 0)\n",
    "\n",
    "tournoi(2,1,1)"
   ]
  },
  {
   "cell_type": "code",
   "execution_count": null,
   "metadata": {},
   "outputs": [],
   "source": []
  },
  {
   "cell_type": "markdown",
   "metadata": {},
   "source": [
    "## Les gilets jaunes\n",
    "\n",
    "Les gilets jaunes veulent maximiser leur nombre de blocages en utilisant le minimum de personne par zone.\n",
    "\n",
    "Créer une fonction qui recoit le shape d'une matrice 2D (obtenu a l'aide de numpy.shape) qui représente la taille de la zone ainsi que le shape d'une matrice 2D qui représente les objets a bloquer. Cette fonction devra retourner la valeur minimum du nombre de personne qu'il faut pour bloquer cet espace.\n",
    "\n",
    "Ici il faut faire en sorte qu'aucun objet ne puisse etre placé dans la zone en y metant au moins un gilet jaune.\n",
    "\n",
    "Voici quelques exemples :\n",
    "- Des casseurs dans une banque : (5,5), (1,1) > 25\n",
    "- Parking Carrefour ou il faut bloquer les voitures : (100,50), (2,1) > 2500\n",
    "- Un groupe de CRS a la place de la contre-escarpe : (22,22), (5,5) > 16\n",
    "- Des bus sur une aire d'autoroute : (53,27), (2,4) > 156\n",
    "- Réplication du TajMahal taille réel au cimetiere du pere lachaise : (500,500), (580,305) > 0\n",
    "\n",
    "On précisera que les objets ne peuvent etre soumis a une rotation"
   ]
  },
  {
   "cell_type": "code",
   "execution_count": 168,
   "metadata": {},
   "outputs": [
    {
     "name": "stdout",
     "output_type": "stream",
     "text": [
      "16\n"
     ]
    }
   ],
   "source": [
    "def gilejone(area, size):\n",
    "    return (area[0]//size[0]) * (area[1]//size[1])\n",
    "\n",
    "area = (22,22)\n",
    "size = (5,5)\n",
    "print(gilejone(area, size))"
   ]
  },
  {
   "cell_type": "markdown",
   "metadata": {},
   "source": [
    "## Expression à caractère limitée\n",
    "\n",
    "En utilisant seulement les signes 01*~() créez n'importe quel nombre entier en utilisant la fonction eval() sur votre expression.<br>\n",
    "Inutile de trouver l'expression comportant le moins de caracteres. Faites juste en sorte que ca marche."
   ]
  },
  {
   "cell_type": "code",
   "execution_count": null,
   "metadata": {},
   "outputs": [],
   "source": [
    "def is_prime(number):\n",
    "    if number == 1 or number%2 == 0:\n",
    "        return 0\n",
    "    for i in range(3, int(number**0.5)+1, 2):\n",
    "        if number%i == 0:\n",
    "            return 0\n",
    "    return 1\n",
    "\n",
    "def prime_factor(number):\n",
    "    prime_list = []\n",
    "    while number % 2 == 0:\n",
    "        prime_list.append(2)\n",
    "        number = number // 2\n",
    "    div = 3\n",
    "    while div <= number:\n",
    "        while number % div == 0:\n",
    "            prime_list.append(div)\n",
    "            number = number // div\n",
    "        div += 2\n",
    "    return prime_list\n",
    "\n",
    "def generate(number):\n",
    "    if number == 2:\n",
    "        return \"*~1\"\n",
    "    res = \"\"\n",
    "    yes = is_prime(number)\n",
    "    prime_list = prime_factor(number + yes)\n",
    "    for number in prime_list:\n",
    "        res += generate(number)\n",
    "    return \"*\" + \"~(\"*yes + res[1:] + \"*~0\"*((prime_list.count(2)+yes)%2) + \")\"*yes\n",
    "    \n",
    "def make_tilde_expression(number):\n",
    "    if number == -1:\n",
    "        res = \"~0\"\n",
    "    elif number in [0,1]:\n",
    "        res = str(number)\n",
    "    else:\n",
    "        res = generate(abs(number))[1:] + \"*~0\"*(number < -2 or number == 2)\n",
    "        res = res.replace(\"*~0*~0\", \"\")\n",
    "    print(res, eval(res))"
   ]
  }
 ],
 "metadata": {
  "kernelspec": {
   "display_name": "Python 3",
   "language": "python",
   "name": "python3"
  },
  "language_info": {
   "codemirror_mode": {
    "name": "ipython",
    "version": 3
   },
   "file_extension": ".py",
   "mimetype": "text/x-python",
   "name": "python",
   "nbconvert_exporter": "python",
   "pygments_lexer": "ipython3",
   "version": "3.7.0"
  }
 },
 "nbformat": 4,
 "nbformat_minor": 2
}
