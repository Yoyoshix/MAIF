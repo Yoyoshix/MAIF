{
 "cells": [
  {
   "cell_type": "markdown",
   "metadata": {},
   "source": [
    "https://www.spoj.com/problems/ACPC10A/"
   ]
  },
  {
   "cell_type": "code",
   "execution_count": 2,
   "metadata": {},
   "outputs": [
    {
     "name": "stdin",
     "output_type": "stream",
     "text": [
      " 10 15 20\n",
      " 2 4 8\n",
      " 1 1 1\n",
      " 0 0 0\n"
     ]
    },
    {
     "name": "stdout",
     "output_type": "stream",
     "text": [
      "AP 25\n",
      "GP 16\n",
      "GP 1\n"
     ]
    }
   ],
   "source": [
    "sol_type = []\n",
    "sol_res = []\n",
    "while 1:\n",
    "    i = input().split(\" \")\n",
    "    a,b,c = int(i[0]),int(i[1]),int(i[2])\n",
    "    if a == 0 and b == 0 and c == 0: #stop condition\n",
    "        break\n",
    "    if b-a == c-b and b != a:\n",
    "        sol_type.append(\"AP\")\n",
    "        sol_res.append(c + (b-a))\n",
    "    else:\n",
    "        sol_type.append(\"GP\")\n",
    "        sol_res.append(c * (b//a))\n",
    "for i, j in zip(sol_type, sol_res):\n",
    "    print(i, j)"
   ]
  },
  {
   "cell_type": "code",
   "execution_count": null,
   "metadata": {},
   "outputs": [],
   "source": []
  }
 ],
 "metadata": {
  "kernelspec": {
   "display_name": "Python 3",
   "language": "python",
   "name": "python3"
  },
  "language_info": {
   "codemirror_mode": {
    "name": "ipython",
    "version": 3
   },
   "file_extension": ".py",
   "mimetype": "text/x-python",
   "name": "python",
   "nbconvert_exporter": "python",
   "pygments_lexer": "ipython3",
   "version": "3.7.0"
  }
 },
 "nbformat": 4,
 "nbformat_minor": 2
}
