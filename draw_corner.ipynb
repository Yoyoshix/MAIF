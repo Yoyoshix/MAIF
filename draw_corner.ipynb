{
 "cells": [
  {
   "cell_type": "code",
   "execution_count": 19,
   "metadata": {},
   "outputs": [],
   "source": [
    "import numpy as np\n",
    "import copy\n",
    "\n",
    "class aesthetic_corner(): # 2D coordinate -y;x\n",
    "    def __init__(self):\n",
    "        self.UP_LEFT = 1\n",
    "        self.UP_RIGHT = 2\n",
    "        self.DOWN_LEFT = 3\n",
    "        self.DOWN_RIGHT = 4\n",
    "        self.VERTICAL = 5\n",
    "        self.HORIZONTAL = 6\n",
    "        self.v_direction = [0, 1, 1, -1, -1] # y\n",
    "        self.h_direction = [0, 1, -1, 1, -1] # x\n",
    "        self.v_new_branch = [0, 3, 0, 0, -3] # y\n",
    "        self.h_new_branch = [0, 0, -3, 3, 0] # y\n",
    "        self.direction_cycle = [0, 3, 1, 4, 2] # 1 > 3 > 4 > 2 > 1\n",
    "        \n",
    "        self.draw_map = np.array([])\n",
    "        self.size_x = 0\n",
    "        self.size_y = 0\n",
    "\n",
    "    def print_map(self):\n",
    "        for i in range(self.size_y):\n",
    "            res = \"\"\n",
    "            for j in range(self.size_x):\n",
    "                res += \" \" if int(self.draw_map[i,j]) == 0 else chr(int(self.draw_map[i,j]))\n",
    "            print(res)\n",
    "        print()\n",
    "\n",
    "    def put_corner(self, x, y, direction):\n",
    "        self.draw_map[y, x] = direction\n",
    "        self.draw_map[y + self.v_direction[direction], x] = self.VERTICAL\n",
    "        self.draw_map[y, x + self.h_direction[direction]] = self.HORIZONTAL\n",
    "        \n",
    "    def put_corner_list(self, pos_list, direction):\n",
    "        for pos in pos_list:\n",
    "            self.put_corner(pos[0], pos[1], direction)\n",
    "\n",
    "    def is_fitting(self, x, y, direction):\n",
    "        if x < 0 or x >= self.size_x or y < 0 or y >= self.size_y or \\\n",
    "            self.draw_map[y,x] != 0 or \\\n",
    "            self.draw_map[y + self.v_direction[direction], x] != 0 or \\\n",
    "            self.draw_map[y, x + self.h_direction[direction]] != 0:\n",
    "            return 0\n",
    "        return 1\n",
    "    \n",
    "    def is_fitting_list(self, pos_list, direction):\n",
    "        for pos in pos_list:\n",
    "            if self.is_fitting(pos[0], pos[1], direction) == 0:\n",
    "                return 0\n",
    "        return 1\n",
    "    \n",
    "    def get_symmetric_pos(self, x, y, a, b, S): #x;y current pos, a;b sym pos, S symm_type\n",
    "        return [-y * S + a + b * S, x + a * S + b]\n",
    "    \n",
    "    def get_symmetric_pos_list(self, x, y, symm_list):\n",
    "        pos_list = [[x,y]]\n",
    "        for symm in symm_list:\n",
    "            length = len(pos_list)\n",
    "            for i in range(length):\n",
    "                pos_list.append(self.get_symmetric_pos(pos_list[i][0], pos_list[i][1], symm[\"a\"], symm[\"b\"], symm[\"S\"]))\n",
    "        return pos_list\n",
    "    \n",
    "    def add_symm(self, symm_list, a, b, S):\n",
    "        symm_list.append({\"a\":a, \"b\":b, \"S\":S})\n",
    "        return symm_list\n",
    "    \n",
    "    def generate_branch(self, x, y, direction, symm_list=[], depth=1):\n",
    "        print(x, y, \"dir =\", direction, symm_list, \"depth =\", depth)\n",
    "        self.print_map()\n",
    "        input()\n",
    "        pos_list = self.get_symmetric_pos_list(x, y, symm_list)\n",
    "        while self.is_fitting_list(pos_list, direction) == 1:\n",
    "            self.put_corner_list(pos_list, direction)\n",
    "            \n",
    "            new_x, new_y = x + self.h_new_branch[direction], y + self.v_new_branch[direction]\n",
    "            if self.is_fitting(new_x, new_y, direction) == 1:\n",
    "                self.generate_branch(new_x, new_y, self.direction_cycle[direction], \\\n",
    "                                    self.add_symm(copy.copy(symm_list), x, y, (-1)**depth), depth + 1)\n",
    "            y += self.v_direction[direction]\n",
    "            x += self.h_direction[direction]\n",
    "            pos_list = self.get_symmetric_pos_list(x, y, symm_list)\n",
    "\n",
    "    def draw_the_map(self, size_x, size_y):\n",
    "        self.size_x = size_x\n",
    "        self.size_y = size_y\n",
    "        \n",
    "        self.draw_map = np.zeros((size_x, size_y))\n",
    "        self.draw_map[0, 0] = self.DOWN_RIGHT\n",
    "        \n",
    "        self.generate_branch(1, 1, self.DOWN_RIGHT)\n",
    "        \n",
    "        self.print_map()"
   ]
  },
  {
   "cell_type": "code",
   "execution_count": 20,
   "metadata": {},
   "outputs": [
    {
     "name": "stdout",
     "output_type": "stream",
     "text": [
      "1 1 dir = 4 [] depth = 1\n",
      "\u0004         \n",
      "          \n",
      "          \n",
      "          \n",
      "          \n",
      "          \n",
      "          \n",
      "          \n",
      "          \n",
      "          \n",
      "\n",
      "\u0004\u0005        \n",
      "\u0006\u0004        \n",
      "          \n",
      "          \n",
      "          \n",
      "          \n",
      "          \n",
      "          \n",
      "          \n",
      "          \n",
      "\n"
     ]
    }
   ],
   "source": [
    "aesthetic_corner().draw_the_map(10, 10)"
   ]
  },
  {
   "cell_type": "code",
   "execution_count": 57,
   "metadata": {},
   "outputs": [
    {
     "name": "stdout",
     "output_type": "stream",
     "text": [
      "1 1\n"
     ]
    }
   ],
   "source": [
    "direction = 4\n",
    "x = (direction % 2) * -2 + 1\n",
    "y = (direction // 3) * 2 - 1\n",
    "print(x,y)"
   ]
  },
  {
   "cell_type": "code",
   "execution_count": 29,
   "metadata": {},
   "outputs": [
    {
     "data": {
      "text/plain": [
       "[2, 1]"
      ]
     },
     "execution_count": 29,
     "metadata": {},
     "output_type": "execute_result"
    }
   ],
   "source": [
    "def symm(x, y, a, b, S):\n",
    "    return [-y * S + a + b * S, x + a * S + b]\n",
    "\n",
    "symm(0, 3, -1, 0, -1)"
   ]
  },
  {
   "cell_type": "code",
   "execution_count": 36,
   "metadata": {},
   "outputs": [
    {
     "name": "stdout",
     "output_type": "stream",
     "text": [
      "{'a': 1, 'b': 2, 'S': 1}\n"
     ]
    }
   ],
   "source": [
    "test = {\"a\":1, \"b\":2, \"S\":1}, {\"a\":-1, \"b\":3, \"S\":-1}\n",
    "print(test[0])"
   ]
  },
  {
   "cell_type": "code",
   "execution_count": 2,
   "metadata": {},
   "outputs": [
    {
     "name": "stdout",
     "output_type": "stream",
     "text": [
      "[0, 1, 2]\n"
     ]
    }
   ],
   "source": [
    "test = [0,1,2,3]\n",
    "print(test[:-1])"
   ]
  },
  {
   "cell_type": "code",
   "execution_count": 6,
   "metadata": {},
   "outputs": [
    {
     "data": {
      "text/plain": [
       "2"
      ]
     },
     "execution_count": 6,
     "metadata": {},
     "output_type": "execute_result"
    }
   ],
   "source": [
    "# 4 > 2 > 1 > 3 > 4 (cycle)\n",
    "def get_next(n):\n",
    "    return n // 2 + (n % 2) * 3\n",
    "\n",
    "get_next(4)"
   ]
  },
  {
   "cell_type": "code",
   "execution_count": 14,
   "metadata": {},
   "outputs": [
    {
     "ename": "KeyboardInterrupt",
     "evalue": "",
     "output_type": "error",
     "traceback": [
      "\u001b[0;31m---------------------------------------------------------------------------\u001b[0m",
      "\u001b[0;31mKeyboardInterrupt\u001b[0m                         Traceback (most recent call last)",
      "\u001b[0;32m<ipython-input-14-ec0c05d21743>\u001b[0m in \u001b[0;36m<module>\u001b[0;34m()\u001b[0m\n\u001b[1;32m      3\u001b[0m \u001b[0;32mfor\u001b[0m \u001b[0msymm\u001b[0m \u001b[0;32min\u001b[0m \u001b[0msymm_list\u001b[0m\u001b[0;34m:\u001b[0m\u001b[0;34m\u001b[0m\u001b[0m\n\u001b[1;32m      4\u001b[0m     \u001b[0;32mfor\u001b[0m \u001b[0mpos\u001b[0m \u001b[0;32min\u001b[0m \u001b[0mpos_list\u001b[0m\u001b[0;34m:\u001b[0m\u001b[0;34m\u001b[0m\u001b[0m\n\u001b[0;32m----> 5\u001b[0;31m         \u001b[0mpos_list\u001b[0m\u001b[0;34m.\u001b[0m\u001b[0mappend\u001b[0m\u001b[0;34m(\u001b[0m\u001b[0;34m[\u001b[0m\u001b[0;36m1\u001b[0m\u001b[0;34m,\u001b[0m \u001b[0;36m0\u001b[0m\u001b[0;34m]\u001b[0m\u001b[0;34m)\u001b[0m\u001b[0;34m\u001b[0m\u001b[0m\n\u001b[0m\u001b[1;32m      6\u001b[0m \u001b[0mprint\u001b[0m\u001b[0;34m(\u001b[0m\u001b[0mpos_list\u001b[0m\u001b[0;34m)\u001b[0m\u001b[0;34m\u001b[0m\u001b[0m\n",
      "\u001b[0;31mKeyboardInterrupt\u001b[0m: "
     ]
    }
   ],
   "source": [
    "symm_list = [\"yes\", \"no\"]\n",
    "pos_list = [[1,1]]\n",
    "for symm in symm_list:\n",
    "    for pos in pos_list:\n",
    "        pos_list.append([1, 0])\n",
    "print(pos_list)"
   ]
  },
  {
   "cell_type": "code",
   "execution_count": null,
   "metadata": {},
   "outputs": [],
   "source": []
  },
  {
   "cell_type": "code",
   "execution_count": null,
   "metadata": {},
   "outputs": [],
   "source": []
  }
 ],
 "metadata": {
  "kernelspec": {
   "display_name": "Python3",
   "language": "python",
   "name": "python3"
  },
  "language_info": {
   "codemirror_mode": {
    "name": "ipython",
    "version": 3
   },
   "file_extension": ".py",
   "mimetype": "text/x-python",
   "name": "python",
   "nbconvert_exporter": "python",
   "pygments_lexer": "ipython3",
   "version": "3.6.3"
  }
 },
 "nbformat": 4,
 "nbformat_minor": 2
}
