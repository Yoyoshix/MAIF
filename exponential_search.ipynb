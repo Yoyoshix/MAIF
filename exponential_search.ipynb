{
 "cells": [
  {
   "cell_type": "code",
   "execution_count": 5,
   "metadata": {},
   "outputs": [],
   "source": [
    "def exponential_search(array, target):\n",
    "    idx = 0\n",
    "    step = 1 #helps moving on the array \n",
    "    current = -1 #store current value\n",
    "    length = len(array)\n",
    "    over_it = False #once we've got over the target we will change mult value\n",
    "\n",
    "    while step > 0: #while we can move\n",
    "        if over_it == True:\n",
    "            step = step // 2 #need to reduce the steps to get precise\n",
    "\n",
    "        if idx < length:\n",
    "            current = array[idx] #get the array[idx] value\n",
    "        else:\n",
    "            current = target + 1 #doing this we can simulate an infinite array. It makes smth generic easily\n",
    "\n",
    "        if current <= target: #we update the best values because we're sure they are the current best\n",
    "            idx += step\n",
    "        else:\n",
    "            if over_it == False: #little exception when breaking the point for the first time\n",
    "                step = step // 4\n",
    "                over_it = True #we know we crossed the line so now we need to get precise\n",
    "            idx -= step\n",
    "        if over_it == False:\n",
    "            step *= 2       #need to increase the step to go further and faster\n",
    "\n",
    "    return idx"
   ]
  },
  {
   "cell_type": "code",
   "execution_count": 6,
   "metadata": {},
   "outputs": [
    {
     "name": "stdout",
     "output_type": "stream",
     "text": [
      "[0, 1, 4, 9, 16, 25, 36, 49, 64, 81, 100, 121, 144, 169, 196, 225, 256, 289, 324, 361, 400, 441, 484, 529, 576, 625, 676, 729, 784, 841, 900, 961, 1024, 1089, 1156, 1225, 1296, 1369, 1444, 1521, 1600, 1681, 1764, 1849, 1936, 2025, 2116, 2209, 2304, 2401, 2500, 2601, 2704, 2809, 2916, 3025, 3136, 3249, 3364, 3481, 3600, 3721, 3844, 3969, 4096, 4225, 4356, 4489, 4624, 4761, 4900, 5041, 5184, 5329, 5476, 5625, 5776, 5929, 6084, 6241, 6400, 6561, 6724, 6889, 7056, 7225, 7396, 7569, 7744, 7921, 8100, 8281, 8464, 8649, 8836, 9025, 9216, 9409, 9604, 9801]\n",
      "100\n"
     ]
    }
   ],
   "source": [
    "array = [i**2 for i in range(100)]\n",
    "target = 9801\n",
    "print(array)\n",
    "print(exponential_search(array, target))"
   ]
  },
  {
   "cell_type": "code",
   "execution_count": null,
   "metadata": {},
   "outputs": [],
   "source": []
  }
 ],
 "metadata": {
  "kernelspec": {
   "display_name": "Python 3",
   "language": "python",
   "name": "python3"
  },
  "language_info": {
   "codemirror_mode": {
    "name": "ipython",
    "version": 3
   },
   "file_extension": ".py",
   "mimetype": "text/x-python",
   "name": "python",
   "nbconvert_exporter": "python",
   "pygments_lexer": "ipython3",
   "version": "3.7.0"
  }
 },
 "nbformat": 4,
 "nbformat_minor": 2
}
