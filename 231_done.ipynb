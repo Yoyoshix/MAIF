{
 "cells": [
  {
   "cell_type": "markdown",
   "metadata": {},
   "source": [
    "https://projecteuler.net/problem=231 Find sum(prime_fact(binom(20000000, 15000000)))"
   ]
  },
  {
   "cell_type": "code",
   "execution_count": 51,
   "metadata": {},
   "outputs": [],
   "source": [
    "import os\n",
    "\n",
    "def is_prime(n):\n",
    "    for div in range(3, int(n**0.5)+2, 2):\n",
    "        if n%div == 0:\n",
    "            return 0\n",
    "    return 1\n",
    "\n",
    "def predata(limit):\n",
    "    os.remove(\"231.txt\")\n",
    "    with open(\"231.txt\", \"w\") as file:\n",
    "        file.write(\"001\")\n",
    "        number = 3\n",
    "        while number <= limit:\n",
    "            if number%2 == 0:\n",
    "                file.write(\"0\")\n",
    "            else:\n",
    "                file.write(str(is_prime(number)))\n",
    "            number += 1"
   ]
  },
  {
   "cell_type": "code",
   "execution_count": 52,
   "metadata": {},
   "outputs": [],
   "source": [
    "predata(20000000)"
   ]
  },
  {
   "cell_type": "code",
   "execution_count": 3,
   "metadata": {},
   "outputs": [],
   "source": [
    "def _231_v1(number):\n",
    "    total = 0\n",
    "    while number%2 == 0:\n",
    "        number = number // 2\n",
    "        total += 2\n",
    "    mod = 3\n",
    "    while mod <= number:\n",
    "        while number%mod == 0:\n",
    "            number = number // mod\n",
    "            total += mod\n",
    "        mod += 2\n",
    "    return total\n",
    "\n",
    "def get_amount_prime_limit(prime, limit):\n",
    "    total = 0\n",
    "    while limit >= prime:\n",
    "        total += limit // prime\n",
    "        limit = limit // prime\n",
    "    return total\n",
    "\n",
    "def _231_v2(k, n):\n",
    "    r = k-n\n",
    "    res = 0\n",
    "    remove = 0\n",
    "    prime_list = open(\"231.txt\", \"r\").read()\n",
    "    \n",
    "    for idx, i in enumerate(prime_list[:k+1]):\n",
    "        if i == \"1\":\n",
    "            res += get_amount_prime_limit(idx, k) * idx\n",
    "            remove += get_amount_prime_limit(idx, n) * idx\n",
    "            remove += get_amount_prime_limit(idx, r) * idx\n",
    "    \n",
    "    return res - remove"
   ]
  },
  {
   "cell_type": "code",
   "execution_count": 4,
   "metadata": {},
   "outputs": [
    {
     "name": "stdout",
     "output_type": "stream",
     "text": [
      "7526965179680\n",
      "2.2306408882141113\n"
     ]
    }
   ],
   "source": [
    "import scipy.special\n",
    "import time\n",
    "\n",
    "n, k = 20000000, 15000000\n",
    "\n",
    "#print(_231_v1(scipy.special.comb(n, k, exact=True)))\n",
    "start = time.time()\n",
    "print(_231_v2(n, k))\n",
    "print(time.time() - start)"
   ]
  },
  {
   "cell_type": "code",
   "execution_count": null,
   "metadata": {},
   "outputs": [],
   "source": []
  }
 ],
 "metadata": {
  "kernelspec": {
   "display_name": "Python 3",
   "language": "python",
   "name": "python3"
  },
  "language_info": {
   "codemirror_mode": {
    "name": "ipython",
    "version": 3
   },
   "file_extension": ".py",
   "mimetype": "text/x-python",
   "name": "python",
   "nbconvert_exporter": "python",
   "pygments_lexer": "ipython3",
   "version": "3.7.0"
  }
 },
 "nbformat": 4,
 "nbformat_minor": 2
}
