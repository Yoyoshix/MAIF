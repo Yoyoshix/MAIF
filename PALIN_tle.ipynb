{
 "cells": [
  {
   "cell_type": "markdown",
   "metadata": {},
   "source": [
    "https://www.spoj.com/problems/PALIN/"
   ]
  },
  {
   "cell_type": "code",
   "execution_count": 541,
   "metadata": {},
   "outputs": [
    {
     "name": "stdin",
     "output_type": "stream",
     "text": [
      " 5\n",
      " 0\n"
     ]
    },
    {
     "name": "stdout",
     "output_type": "stream",
     "text": [
      "1\n"
     ]
    },
    {
     "name": "stdin",
     "output_type": "stream",
     "text": [
      " 9\n"
     ]
    },
    {
     "name": "stdout",
     "output_type": "stream",
     "text": [
      "11\n"
     ]
    },
    {
     "name": "stdin",
     "output_type": "stream",
     "text": [
      " 21\n"
     ]
    },
    {
     "name": "stdout",
     "output_type": "stream",
     "text": [
      "22\n"
     ]
    },
    {
     "name": "stdin",
     "output_type": "stream",
     "text": [
      " 101\n"
     ]
    },
    {
     "name": "stdout",
     "output_type": "stream",
     "text": [
      "111\n"
     ]
    },
    {
     "name": "stdin",
     "output_type": "stream",
     "text": [
      " 9999\n"
     ]
    },
    {
     "name": "stdout",
     "output_type": "stream",
     "text": [
      "10001\n"
     ]
    }
   ],
   "source": [
    "def next_palin(number):\n",
    "    length = len(number)\n",
    "    num_l = int(number[(length+1)//2-1::-1]) # get reversed left part\n",
    "    num_r = int(number[length//2:]) # get right part\n",
    "    if num_l > num_r:                # if left > right \n",
    "        res = number[:(length+1)//2] # save the no reversed left part\n",
    "    else:\n",
    "        res = str(int(number[:(length+1)//2])+1) # apply +1 on not reversed left part\n",
    "        if len(res) > (length+1)//2:             # exception with 9 everywhere that gets +1\n",
    "            return res[:-1] + res[-1-(length%2)::-1] # need to do length%2 because middle digit in odd length\n",
    "    \n",
    "    if length%2 == 0:\n",
    "        return res + res[::-1]\n",
    "    else:\n",
    "        return res[:-1] + res[::-1] # care about middle digit\n",
    "\n",
    "for i in range(int(input())):\n",
    "    print(next_palin(input()))"
   ]
  },
  {
   "cell_type": "code",
   "execution_count": 538,
   "metadata": {},
   "outputs": [
    {
     "name": "stdout",
     "output_type": "stream",
     "text": [
      "1235 321\n"
     ]
    },
    {
     "data": {
      "text/plain": [
       "'1235321'"
      ]
     },
     "execution_count": 538,
     "metadata": {},
     "output_type": "execute_result"
    }
   ],
   "source": [
    "number = \"1234567\"\n",
    "next_palin(number)"
   ]
  },
  {
   "cell_type": "code",
   "execution_count": 468,
   "metadata": {},
   "outputs": [
    {
     "name": "stdout",
     "output_type": "stream",
     "text": [
      "123 12\n"
     ]
    }
   ],
   "source": [
    "def next_palin_reduced(number):\n",
    "    res = str(int(number[:(len(number)+1)//2])+(int(number[(len(number)+1)//2-1::-1]) <= int(number[len(number)//2:]))) # lol\n",
    "    return res[:len(res)-(len(res) > (len(number)+1)//2)] + (res[::-1])[len(number)%2:] # lol again"
   ]
  },
  {
   "cell_type": "code",
   "execution_count": 414,
   "metadata": {},
   "outputs": [
    {
     "name": "stdout",
     "output_type": "stream",
     "text": [
      "ye\n"
     ]
    }
   ],
   "source": [
    "if 0 == -0:\n",
    "    print(\"ye\")"
   ]
  },
  {
   "cell_type": "code",
   "execution_count": null,
   "metadata": {},
   "outputs": [],
   "source": []
  }
 ],
 "metadata": {
  "kernelspec": {
   "display_name": "Python 3",
   "language": "python",
   "name": "python3"
  },
  "language_info": {
   "codemirror_mode": {
    "name": "ipython",
    "version": 3
   },
   "file_extension": ".py",
   "mimetype": "text/x-python",
   "name": "python",
   "nbconvert_exporter": "python",
   "pygments_lexer": "ipython3",
   "version": "3.7.0"
  }
 },
 "nbformat": 4,
 "nbformat_minor": 2
}
