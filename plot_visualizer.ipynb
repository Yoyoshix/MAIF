{
 "cells": [
  {
   "cell_type": "code",
   "execution_count": 3,
   "metadata": {},
   "outputs": [],
   "source": [
    "import matplotlib.pyplot as plt\n",
    "import math\n",
    "import time\n",
    "\n",
    "def draw_single(x_start, x_end, y_end, x_val, y_val, colors):\n",
    "    plt.axis([x_start, x_end, 0, y_end])\n",
    "    for y_val, color in zip(y, colors):\n",
    "        plt.scatter(x[:len(y_val)], y_val, color=color, s=1)\n",
    "    plt.draw()\n",
    "    plt.show()\n",
    "\n",
    "def make_plot(x_start, x_end, timelimit, function_list, val_amount=1000, step_mult=1, ko_time_average=1, ko_limit=1, \n",
    "              path_to_save=None, colors=[\"red\", \"green\", \"blue\", \"orange\", \"grey\", \"purple\", \"black\", \"pink\"]):\n",
    "    distance = x_end - x_start\n",
    "    step = distance / val_amount\n",
    "    \n",
    "    for func in function_list:\n",
    "        x_val = []\n",
    "        y_val = []\n",
    "        time_got = 0\n",
    "        time_average = [0] * ko_time_average\n",
    "        ko_amount = 0\n",
    "        query = x_start\n",
    "        realquery = query\n",
    "        cpt = 0\n",
    "        \n",
    "        while query <= x_end and sum(time_average)/ko_time_average < timelimit and ko_amount < ko_limit:\n",
    "            time_start = time.time()\n",
    "            res = func(query)\n",
    "            time_got = time.time()\n",
    "            x_val.append(math.log(query, step_mult))\n",
    "            y_val.append(time_got)\n",
    "            \n",
    "            if time_got > timelimit and time_average[cpt%ko_time_average] < timelimit:\n",
    "                ko_amount += 1\n",
    "            if time_got < timelimit and time_average[cpt%ko_time_average] > timelimit:\n",
    "                ko_amount -= 1\n",
    "            time_average[cpt%ko_time_average] = time_got\n",
    "            \n",
    "            if step_mult == 1:\n",
    "                query += step\n",
    "            else:\n",
    "                query *= step_mult\n",
    "            realquery = int(query)\n",
    "            cpt += 1\n",
    "        draw_single(x_start, x_end, timelimit, x_val, y_val, colors)\n",
    "    "
   ]
  },
  {
   "cell_type": "code",
   "execution_count": 4,
   "metadata": {},
   "outputs": [
    {
     "data": {
      "text/plain": [
       "24.15885792809679"
      ]
     },
     "execution_count": 4,
     "metadata": {},
     "output_type": "execute_result"
    }
   ],
   "source": [
    "math.log(10,1.1)"
   ]
  },
  {
   "cell_type": "code",
   "execution_count": null,
   "metadata": {},
   "outputs": [],
   "source": []
  }
 ],
 "metadata": {
  "kernelspec": {
   "display_name": "Python 3",
   "language": "python",
   "name": "python3"
  },
  "language_info": {
   "codemirror_mode": {
    "name": "ipython",
    "version": 3
   },
   "file_extension": ".py",
   "mimetype": "text/x-python",
   "name": "python",
   "nbconvert_exporter": "python",
   "pygments_lexer": "ipython3",
   "version": "3.7.0"
  }
 },
 "nbformat": 4,
 "nbformat_minor": 2
}
