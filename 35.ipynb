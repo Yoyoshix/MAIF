{
 "cells": [
  {
   "cell_type": "markdown",
   "metadata": {},
   "source": [
    "https://projecteuler.net/problem=35"
   ]
  },
  {
   "cell_type": "code",
   "execution_count": 1,
   "metadata": {},
   "outputs": [],
   "source": [
    "def is_prime(n, watch=False):\n",
    "    for div in range(3, int(n**0.5)+1, 2):\n",
    "        if n%div == 0:\n",
    "            if watch == True:\n",
    "                print(n, n//div, div)\n",
    "            return 0\n",
    "    return 1\n",
    "\n",
    "def generate(number, last=0, total=0, depth=1):\n",
    "    if depth == 0:\n",
    "        num = []\n",
    "        for i in range(len(number)):\n",
    "            num.append(\"\".join(number[i:] + number[:i]))\n",
    "        count = 0\n",
    "        for i in set(num):\n",
    "            if is_prime(int(i)):\n",
    "                count += 1\n",
    "            else:\n",
    "                return total\n",
    "        print(set(num))\n",
    "        return total + count\n",
    "    for idx, i in enumerate(\"1379\"[last:]):\n",
    "        number[depth-1] = i\n",
    "        total = generate(number, idx + last, total, depth - 1)\n",
    "    return total\n",
    "\n",
    "def count_cyclic(digits):\n",
    "    total = 4\n",
    "    for i in range(2, digits+1):\n",
    "        total += generate([\"\"] * i, depth=i)\n",
    "    print(total)"
   ]
  },
  {
   "cell_type": "code",
   "execution_count": 5,
   "metadata": {},
   "outputs": [
    {
     "name": "stdout",
     "output_type": "stream",
     "text": [
      "{'11'}\n",
      "{'13', '31'}\n",
      "{'17', '71'}\n",
      "{'73', '37'}\n",
      "{'79', '97'}\n",
      "{'311', '113', '131'}\n",
      "{'197', '719', '971'}\n",
      "{'919', '991', '199'}\n",
      "{'373', '337', '733'}\n",
      "{'1193', '9311', '3119', '1931'}\n",
      "29\n"
     ]
    }
   ],
   "source": [
    "count_cyclic(5)"
   ]
  },
  {
   "cell_type": "code",
   "execution_count": 95,
   "metadata": {},
   "outputs": [],
   "source": [
    "def rotate(number):\n",
    "    num = []\n",
    "    for i in range(len(number)):\n",
    "        num.append(number[i:] + number[:i])\n",
    "    return num"
   ]
  },
  {
   "cell_type": "code",
   "execution_count": 100,
   "metadata": {},
   "outputs": [
    {
     "name": "stdout",
     "output_type": "stream",
     "text": [
      "133 19 7\n"
     ]
    },
    {
     "data": {
      "text/plain": [
       "0"
      ]
     },
     "execution_count": 100,
     "metadata": {},
     "output_type": "execute_result"
    }
   ],
   "source": [
    "is_prime(133, True)"
   ]
  },
  {
   "cell_type": "code",
   "execution_count": null,
   "metadata": {},
   "outputs": [],
   "source": []
  }
 ],
 "metadata": {
  "kernelspec": {
   "display_name": "Python 3",
   "language": "python",
   "name": "python3"
  },
  "language_info": {
   "codemirror_mode": {
    "name": "ipython",
    "version": 3
   },
   "file_extension": ".py",
   "mimetype": "text/x-python",
   "name": "python",
   "nbconvert_exporter": "python",
   "pygments_lexer": "ipython3",
   "version": "3.7.0"
  }
 },
 "nbformat": 4,
 "nbformat_minor": 2
}
