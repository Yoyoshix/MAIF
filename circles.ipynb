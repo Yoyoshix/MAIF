{
 "cells": [
  {
   "cell_type": "code",
   "execution_count": 210,
   "metadata": {},
   "outputs": [],
   "source": [
    "def o(ô):\n",
    "    o = -~0\n",
    "    ò = o\n",
    "    while ò >= -o:\n",
    "        ö = round((o-ò**(o+o))**(o/(o+o))*ô)\n",
    "        print(\" \"*(ô-ö)+\"O\"*ö*(o+o))\n",
    "        ò -= o/ô"
   ]
  },
  {
   "cell_type": "code",
   "execution_count": 254,
   "metadata": {},
   "outputs": [
    {
     "name": "stdout",
     "output_type": "stream",
     "text": [
      "          \n",
      "      OOOOOOOO\n",
      "    OOOOOOOOOOOO\n",
      "   OOOOOOOOOOOOOO\n",
      "  OOOOOOOOOOOOOOOO\n",
      " OOOOOOOOOOOOOOOOOO\n",
      " OOOOOOOOOOOOOOOOOO\n",
      "OOOOOOOOOOOOOOOOOOOO\n",
      "OOOOOOOOOOOOOOOOOOOO\n",
      "OOOOOOOOOOOOOOOOOOOO\n",
      "OOOOOOOOOOOOOOOOOOOO\n",
      "OOOOOOOOOOOOOOOOOOOO\n",
      "OOOOOOOOOOOOOOOOOOOO\n",
      "OOOOOOOOOOOOOOOOOOOO\n",
      " OOOOOOOOOOOOOOOOOO\n",
      " OOOOOOOOOOOOOOOOOO\n",
      "  OOOOOOOOOOOOOOOO\n",
      "   OOOOOOOOOOOOOO\n",
      "    OOOOOOOOOOOO\n",
      "      OOOOOOOO\n",
      "          \n"
     ]
    }
   ],
   "source": [
    "o(10)"
   ]
  },
  {
   "cell_type": "code",
   "execution_count": 245,
   "metadata": {},
   "outputs": [],
   "source": [
    "def circle(radius):\n",
    "    y = 1\n",
    "    while y >= -1:\n",
    "        x = round((1-y**2)**0.5*radius)\n",
    "        print(\" \"*(radius-x)+\"O\"*x*2)\n",
    "        y -= 1/radius"
   ]
  },
  {
   "cell_type": "code",
   "execution_count": 255,
   "metadata": {},
   "outputs": [
    {
     "name": "stdout",
     "output_type": "stream",
     "text": [
      "   \n",
      " OOOO\n",
      "OOOOOO\n",
      "OOOOOO\n",
      "OOOOOO\n",
      " OOOO\n",
      "   \n"
     ]
    }
   ],
   "source": [
    "circle(3)"
   ]
  },
  {
   "cell_type": "code",
   "execution_count": null,
   "metadata": {},
   "outputs": [],
   "source": []
  },
  {
   "cell_type": "code",
   "execution_count": null,
   "metadata": {},
   "outputs": [],
   "source": []
  }
 ],
 "metadata": {
  "kernelspec": {
   "display_name": "Python 3",
   "language": "python",
   "name": "python3"
  },
  "language_info": {
   "codemirror_mode": {
    "name": "ipython",
    "version": 3
   },
   "file_extension": ".py",
   "mimetype": "text/x-python",
   "name": "python",
   "nbconvert_exporter": "python",
   "pygments_lexer": "ipython3",
   "version": "3.7.0"
  }
 },
 "nbformat": 4,
 "nbformat_minor": 2
}
